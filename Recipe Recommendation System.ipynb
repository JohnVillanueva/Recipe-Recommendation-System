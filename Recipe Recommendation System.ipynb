{
 "cells": [
  {
   "cell_type": "markdown",
   "metadata": {},
   "source": [
    "# Recipe Recommendation System\n",
    "Creating, Testing, and Tuning unsupervised learning methods to recommend relevant recipes based on ingredient and category preference\n",
    "\n",
    "Workflow:\n",
    "1. Load, aggregate, clean, and tokenize recipe text data\n",
    "    - Identify Food Recipe Specific stop words that might be useful to ignore (e.g. measurements, numbers)\n",
    "    - It's likely that recipe attributes will depend heavily on ingredients and cooking methods, not necessarily\n",
    "    - Think twice about assigning words as stopwords, they might end up being useful.\n",
    "    - You may want to lemmatize the data to reduce sparseness; check lemmatization process to see if it strips important words, foods, or ingredients. Also, remove punctuation: it won't help for keyword \n",
    "2. ~~Create Word Embeddings using Word2Vec or GloVe Models (Consider using pretrained word embeddings)~~\n",
    "    - Discuss in detail the reason to choose one over the other for this context\n",
    "    - Setup neural network locally and run remotely on google colab\n",
    "    - I want to try tfidf and GloVe model, because tfidf doesn't take into account the order of words, which is isn't such a problem with recipes - it's the ingredients and cooking techniques that matter more. However, GloVe word vectors may be able to produce new words outside of the corpora text when summarizing the documents\n",
    "3. Compare Topic Extraction Methods\n",
    "    - ~~LDA2Vec~~\n",
    "    - LDA\n",
    "    - NNMF\n",
    "4. Generate keywords using keyword summarization and textrank\n",
    "    - Create methodology selectively assigns generated categories (e.g. LSA/NNMF Score must be above certain score threshold)\n",
    "    - Define metrics that evaluate the validity, breadth, and descriptive value of the assigned categories\n",
    "    - Identify Food Recipe Specific stop words that passed that might be suitable in the filter.\n",
    "5. Create extra features useful for search result ranking\n",
    "    - ~~Difficulty (Time, Number of Ingredients, Servings (inverse relationship),~~\n",
    "    - Import Unsupervised Generated Categories\n",
    "    - Create ratings that calculate overall weight.\n",
    "6. Find similarity scoring methods that would work best in this context. Some variation of Cosine Similarity will work best\n",
    "7. Create algorithm that utilizes similarity to sort recipes based on user-inputted queries, and sort base on other features as well.\n",
    "\n",
    "-----\n",
    "\n",
    "Regarding the Available Recipe Images\n",
    "\n",
    "Around 70,000 recipes out of the 125,000 have corresponding images, so it's possible to utilize these images to improve the models or create seperate, supplementary model\n",
    "\n",
    "Ideas:\n",
    "- Training a neural network to identify/predict/generate categories of foods based on their images\n"
   ]
  },
  {
   "cell_type": "markdown",
   "metadata": {},
   "source": [
    "### The Data\n",
    "Although I can no longer find the direct download, the link and code for the scraper the original user used to collect the data set is [here](https://github.com/rtlee9/recipe-box). This user collected the title, ingredients, and instructions from recipes found on Allrecipes.com, epicurious.com, and foodnetwork.com.\n",
    "\n",
    "For this project, the data was directly downloaded and uploaded for the creation of my own model. All the code present are of my own creation or significantly modified from the Thinkful curriculum. No other software sources were used verbatim within this project."
   ]
  },
  {
   "cell_type": "code",
   "execution_count": 1,
   "metadata": {},
   "outputs": [],
   "source": [
    "import pandas as pd\n",
    "import numpy as np\n",
    "import re\n",
    "import spacy"
   ]
  },
  {
   "cell_type": "code",
   "execution_count": 18,
   "metadata": {},
   "outputs": [],
   "source": [
    "allrecipes_raw = pd.read_json('../__DATA__/recipes_raw/recipes_raw_nosource_ar.json')\n",
    "epicurious_raw = pd.read_json('../__DATA__/recipes_raw/recipes_raw_nosource_epi.json')\n",
    "foodnetwork_raw = pd.read_json('../__DATA__/recipes_raw/recipes_raw_nosource_fn.json')"
   ]
  },
  {
   "cell_type": "code",
   "execution_count": 132,
   "metadata": {},
   "outputs": [
    {
     "data": {
      "text/html": [
       "<div>\n",
       "<style scoped>\n",
       "    .dataframe tbody tr th:only-of-type {\n",
       "        vertical-align: middle;\n",
       "    }\n",
       "\n",
       "    .dataframe tbody tr th {\n",
       "        vertical-align: top;\n",
       "    }\n",
       "\n",
       "    .dataframe thead th {\n",
       "        text-align: right;\n",
       "    }\n",
       "</style>\n",
       "<table border=\"1\" class=\"dataframe\">\n",
       "  <thead>\n",
       "    <tr style=\"text-align: right;\">\n",
       "      <th></th>\n",
       "      <th>ingredients</th>\n",
       "      <th>instructions</th>\n",
       "      <th>picture_link</th>\n",
       "      <th>title</th>\n",
       "    </tr>\n",
       "  </thead>\n",
       "  <tbody>\n",
       "    <tr>\n",
       "      <th>0</th>\n",
       "      <td>[4 skinless, boneless chicken breast halves AD...</td>\n",
       "      <td>Place the chicken, butter, soup, and onion in ...</td>\n",
       "      <td>55lznCYBbs2mT8BTx6BTkLhynGHzM.S</td>\n",
       "      <td>Slow Cooker Chicken and Dumplings</td>\n",
       "    </tr>\n",
       "  </tbody>\n",
       "</table>\n",
       "</div>"
      ],
      "text/plain": [
       "                                         ingredients  \\\n",
       "0  [4 skinless, boneless chicken breast halves AD...   \n",
       "\n",
       "                                        instructions  \\\n",
       "0  Place the chicken, butter, soup, and onion in ...   \n",
       "\n",
       "                      picture_link                              title  \n",
       "0  55lznCYBbs2mT8BTx6BTkLhynGHzM.S  Slow Cooker Chicken and Dumplings  "
      ]
     },
     "execution_count": 132,
     "metadata": {},
     "output_type": "execute_result"
    }
   ],
   "source": [
    "allrecipes = allrecipes_raw.copy().T.reset_index().drop(columns = ['index'])\n",
    "allrecipes.head(1)"
   ]
  },
  {
   "cell_type": "code",
   "execution_count": 133,
   "metadata": {},
   "outputs": [
    {
     "data": {
      "text/html": [
       "<div>\n",
       "<style scoped>\n",
       "    .dataframe tbody tr th:only-of-type {\n",
       "        vertical-align: middle;\n",
       "    }\n",
       "\n",
       "    .dataframe tbody tr th {\n",
       "        vertical-align: top;\n",
       "    }\n",
       "\n",
       "    .dataframe thead th {\n",
       "        text-align: right;\n",
       "    }\n",
       "</style>\n",
       "<table border=\"1\" class=\"dataframe\">\n",
       "  <thead>\n",
       "    <tr style=\"text-align: right;\">\n",
       "      <th></th>\n",
       "      <th>ingredients</th>\n",
       "      <th>instructions</th>\n",
       "      <th>picture_link</th>\n",
       "      <th>title</th>\n",
       "    </tr>\n",
       "  </thead>\n",
       "  <tbody>\n",
       "    <tr>\n",
       "      <th>0</th>\n",
       "      <td>[12 egg whites, 12 egg yolks, 1 1/2 cups sugar...</td>\n",
       "      <td>Beat the egg whites until stiff, gradually add...</td>\n",
       "      <td>None</td>\n",
       "      <td>Christmas Eggnog</td>\n",
       "    </tr>\n",
       "  </tbody>\n",
       "</table>\n",
       "</div>"
      ],
      "text/plain": [
       "                                         ingredients  \\\n",
       "0  [12 egg whites, 12 egg yolks, 1 1/2 cups sugar...   \n",
       "\n",
       "                                        instructions picture_link  \\\n",
       "0  Beat the egg whites until stiff, gradually add...         None   \n",
       "\n",
       "               title  \n",
       "0  Christmas Eggnog   "
      ]
     },
     "execution_count": 133,
     "metadata": {},
     "output_type": "execute_result"
    }
   ],
   "source": [
    "epicurious = epicurious_raw.copy().T.reset_index().drop(columns = ['index'])\n",
    "epicurious.head(1)"
   ]
  },
  {
   "cell_type": "code",
   "execution_count": 134,
   "metadata": {},
   "outputs": [
    {
     "data": {
      "text/html": [
       "<div>\n",
       "<style scoped>\n",
       "    .dataframe tbody tr th:only-of-type {\n",
       "        vertical-align: middle;\n",
       "    }\n",
       "\n",
       "    .dataframe tbody tr th {\n",
       "        vertical-align: top;\n",
       "    }\n",
       "\n",
       "    .dataframe thead th {\n",
       "        text-align: right;\n",
       "    }\n",
       "</style>\n",
       "<table border=\"1\" class=\"dataframe\">\n",
       "  <thead>\n",
       "    <tr style=\"text-align: right;\">\n",
       "      <th></th>\n",
       "      <th>ingredients</th>\n",
       "      <th>instructions</th>\n",
       "      <th>picture_link</th>\n",
       "      <th>title</th>\n",
       "    </tr>\n",
       "  </thead>\n",
       "  <tbody>\n",
       "    <tr>\n",
       "      <th>0</th>\n",
       "      <td>[1/2 cup celery, finely chopped, 1 small green...</td>\n",
       "      <td>Toss ingredients lightly and spoon into a butt...</td>\n",
       "      <td>None</td>\n",
       "      <td>Grammie Hamblet's Deviled Crab</td>\n",
       "    </tr>\n",
       "  </tbody>\n",
       "</table>\n",
       "</div>"
      ],
      "text/plain": [
       "                                         ingredients  \\\n",
       "0  [1/2 cup celery, finely chopped, 1 small green...   \n",
       "\n",
       "                                        instructions picture_link  \\\n",
       "0  Toss ingredients lightly and spoon into a butt...         None   \n",
       "\n",
       "                            title  \n",
       "0  Grammie Hamblet's Deviled Crab  "
      ]
     },
     "execution_count": 134,
     "metadata": {},
     "output_type": "execute_result"
    }
   ],
   "source": [
    "foodnetwork = foodnetwork_raw.copy().T.reset_index().drop(columns = ['index'])\n",
    "foodnetwork.head(1)"
   ]
  },
  {
   "cell_type": "code",
   "execution_count": 135,
   "metadata": {},
   "outputs": [
    {
     "data": {
      "text/plain": [
       "(125164, 4)"
      ]
     },
     "execution_count": 135,
     "metadata": {},
     "output_type": "execute_result"
    }
   ],
   "source": [
    "recipes = pd.concat([allrecipes, epicurious, foodnetwork]).reset_index(drop=True) # Concat does not reset indices\n",
    "recipes.shape"
   ]
  },
  {
   "cell_type": "code",
   "execution_count": 136,
   "metadata": {},
   "outputs": [
    {
     "data": {
      "text/plain": [
       "ingredients       517\n",
       "instructions      691\n",
       "picture_link    42571\n",
       "title             569\n",
       "dtype: int64"
      ]
     },
     "execution_count": 136,
     "metadata": {},
     "output_type": "execute_result"
    }
   ],
   "source": [
    "# Count of missing values by category\n",
    "recipes.isna().sum()"
   ]
  },
  {
   "cell_type": "code",
   "execution_count": 137,
   "metadata": {},
   "outputs": [
    {
     "data": {
      "text/plain": [
       "691"
      ]
     },
     "execution_count": 137,
     "metadata": {},
     "output_type": "execute_result"
    }
   ],
   "source": [
    "# Number recipes/rows that have any missing values besides missing pictures\n",
    "null_recs = recipes.copy().drop(columns = 'picture_link').T.isna().any()\n",
    "null_recs.sum()"
   ]
  },
  {
   "cell_type": "code",
   "execution_count": 138,
   "metadata": {},
   "outputs": [
    {
     "data": {
      "text/html": [
       "<div>\n",
       "<style scoped>\n",
       "    .dataframe tbody tr th:only-of-type {\n",
       "        vertical-align: middle;\n",
       "    }\n",
       "\n",
       "    .dataframe tbody tr th {\n",
       "        vertical-align: top;\n",
       "    }\n",
       "\n",
       "    .dataframe thead th {\n",
       "        text-align: right;\n",
       "    }\n",
       "</style>\n",
       "<table border=\"1\" class=\"dataframe\">\n",
       "  <thead>\n",
       "    <tr style=\"text-align: right;\">\n",
       "      <th></th>\n",
       "      <th>ingredients</th>\n",
       "      <th>instructions</th>\n",
       "      <th>picture_link</th>\n",
       "      <th>title</th>\n",
       "    </tr>\n",
       "  </thead>\n",
       "  <tbody>\n",
       "    <tr>\n",
       "      <th>5874</th>\n",
       "      <td>NaN</td>\n",
       "      <td>NaN</td>\n",
       "      <td>NaN</td>\n",
       "      <td>NaN</td>\n",
       "    </tr>\n",
       "    <tr>\n",
       "      <th>15020</th>\n",
       "      <td>NaN</td>\n",
       "      <td>NaN</td>\n",
       "      <td>NaN</td>\n",
       "      <td>NaN</td>\n",
       "    </tr>\n",
       "    <tr>\n",
       "      <th>15023</th>\n",
       "      <td>NaN</td>\n",
       "      <td>NaN</td>\n",
       "      <td>NaN</td>\n",
       "      <td>NaN</td>\n",
       "    </tr>\n",
       "    <tr>\n",
       "      <th>15025</th>\n",
       "      <td>NaN</td>\n",
       "      <td>NaN</td>\n",
       "      <td>NaN</td>\n",
       "      <td>NaN</td>\n",
       "    </tr>\n",
       "    <tr>\n",
       "      <th>15637</th>\n",
       "      <td>NaN</td>\n",
       "      <td>NaN</td>\n",
       "      <td>NaN</td>\n",
       "      <td>NaN</td>\n",
       "    </tr>\n",
       "  </tbody>\n",
       "</table>\n",
       "</div>"
      ],
      "text/plain": [
       "      ingredients instructions picture_link title\n",
       "5874          NaN          NaN          NaN   NaN\n",
       "15020         NaN          NaN          NaN   NaN\n",
       "15023         NaN          NaN          NaN   NaN\n",
       "15025         NaN          NaN          NaN   NaN\n",
       "15637         NaN          NaN          NaN   NaN"
      ]
     },
     "execution_count": 138,
     "metadata": {},
     "output_type": "execute_result"
    }
   ],
   "source": [
    "recipes[null_recs].head()"
   ]
  },
  {
   "cell_type": "code",
   "execution_count": 139,
   "metadata": {},
   "outputs": [
    {
     "data": {
      "text/plain": [
       "(124473, 4)"
      ]
     },
     "execution_count": 139,
     "metadata": {},
     "output_type": "execute_result"
    }
   ],
   "source": [
    "rows_to_drop = recipes[null_recs].index\n",
    "recipes = recipes.drop(index = rows_to_drop).reset_index(drop = True)\n",
    "recipes.shape"
   ]
  },
  {
   "cell_type": "code",
   "execution_count": 140,
   "metadata": {},
   "outputs": [
    {
     "data": {
      "text/plain": [
       "ingredients     object\n",
       "instructions    object\n",
       "picture_link    object\n",
       "title           object\n",
       "dtype: object"
      ]
     },
     "execution_count": 140,
     "metadata": {},
     "output_type": "execute_result"
    }
   ],
   "source": [
    "recipes.dtypes"
   ]
  },
  {
   "cell_type": "code",
   "execution_count": 141,
   "metadata": {},
   "outputs": [],
   "source": [
    "# Indexing rows with columns that only contain numbers or punctuation\n",
    "import string\n",
    "nc_ingred_index = [index for i, index in zip(recipes['ingredients'], recipes.index) if all(j.isdigit() or j in string.punctuation for j in i)]\n",
    "nc_title_index = [index for i, index in zip(recipes['title'], recipes.index) if all(j.isdigit() or j in string.punctuation for j in i)]\n",
    "nc_instr_index = [index for i, index in zip(recipes['instructions'], recipes.index) if all(j.isdigit() or j in string.punctuation for j in i)]\n"
   ]
  },
  {
   "cell_type": "code",
   "execution_count": 142,
   "metadata": {},
   "outputs": [
    {
     "data": {
      "text/plain": [
       "[1520, 0, 39]"
      ]
     },
     "execution_count": 142,
     "metadata": {},
     "output_type": "execute_result"
    }
   ],
   "source": [
    "# Checking number of rows in each category that are only punc/nums\n",
    "index_list = [nc_ingred_index, nc_title_index, nc_instr_index]\n",
    "[len(x) for x in index_list]"
   ]
  },
  {
   "cell_type": "code",
   "execution_count": 143,
   "metadata": {},
   "outputs": [
    {
     "name": "stdout",
     "output_type": "stream",
     "text": [
      "1551\n"
     ]
    },
    {
     "data": {
      "text/plain": [
       "(122922, 4)"
      ]
     },
     "execution_count": 143,
     "metadata": {},
     "output_type": "execute_result"
    }
   ],
   "source": [
    "# generating unique indices for index_list and dropping from dataframe\n",
    "# recipes without recipe instructions or ingredients are not useable\n",
    "from functools import reduce\n",
    "from operator import add\n",
    "inds_to_drop = set(reduce(add, index_list))\n",
    "print(len(inds_to_drop))\n",
    "recipes = recipes.drop(index=inds_to_drop).reset_index(drop=True)\n",
    "recipes.shape"
   ]
  },
  {
   "cell_type": "code",
   "execution_count": 146,
   "metadata": {},
   "outputs": [],
   "source": [
    "# Recipe instructions with less than 20 characters are not good recipes\n",
    "empty_instr_ind = [index for i, index in zip(recipes['instructions'], recipes.index) if len(i) < 20]\n",
    "recipes = recipes.drop(index = empty_instr_ind).reset_index(drop=True)"
   ]
  },
  {
   "cell_type": "code",
   "execution_count": 147,
   "metadata": {},
   "outputs": [
    {
     "data": {
      "text/plain": [
       "(122911, 4)"
      ]
     },
     "execution_count": 147,
     "metadata": {},
     "output_type": "execute_result"
    }
   ],
   "source": [
    "recipes.shape"
   ]
  },
  {
   "cell_type": "code",
   "execution_count": 148,
   "metadata": {},
   "outputs": [
    {
     "data": {
      "text/plain": [
       "ingredients         0\n",
       "instructions        0\n",
       "picture_link    41687\n",
       "title               0\n",
       "dtype: int64"
      ]
     },
     "execution_count": 148,
     "metadata": {},
     "output_type": "execute_result"
    }
   ],
   "source": [
    "recipes.isna().sum()"
   ]
  },
  {
   "cell_type": "code",
   "execution_count": 159,
   "metadata": {},
   "outputs": [
    {
     "data": {
      "text/plain": [
       "Series([], Name: ingredients, dtype: object)"
      ]
     },
     "execution_count": 159,
     "metadata": {},
     "output_type": "execute_result"
    }
   ],
   "source": [
    "# Checking for low ingredient recipes.\n",
    "#low_ingr_ind = [index for i, index in zip(recipes['ingredients'], recipes.index) if len(i) < 20]\n",
    "low_ingr_index = [index for i, index in zip(recipes['ingredients'], recipes.index) if i[0] == np.nan]\n",
    "len(low_ingr_index)\n",
    "recipes.loc[low_ingr_index, 'ingredients']"
   ]
  },
  {
   "cell_type": "code",
   "execution_count": 155,
   "metadata": {},
   "outputs": [
    {
     "data": {
      "text/plain": [
       "[]"
      ]
     },
     "execution_count": 155,
     "metadata": {},
     "output_type": "execute_result"
    }
   ],
   "source": [
    "# Searching for pseudo empty lists\n",
    "[index for i, index in zip(recipes['ingredients'], recipes.index) if np.nan in recipes.loc[index,'ingredients']]\n"
   ]
  },
  {
   "cell_type": "markdown",
   "metadata": {},
   "source": [
    "### Cleaning to Prepare for Tokenizing\n",
    "\n",
    "Cleaning Specifics:\n",
    "- Removing ADVERTISEMENT\n",
    "- Pruning dataset of rows with empty cells or inadequate recipes\n",
    "- Remove all punctuation, digits, and extraneous spacing"
   ]
  },
  {
   "cell_type": "code",
   "execution_count": 196,
   "metadata": {},
   "outputs": [],
   "source": [
    "# Removing ADVERTISEMENT text from ingredients list\n",
    "ingredients = []\n",
    "for ing_list in recipes['ingredients']:\n",
    "    clean_ings = [ing.replace('ADVERTISEMENT','').strip() for ing in ing_list]\n",
    "    if '' in clean_ings:\n",
    "        clean_ings.remove('')\n",
    "    ingredients.append(clean_ings)\n",
    "recipes['ingredients'] = ingredients"
   ]
  },
  {
   "cell_type": "code",
   "execution_count": 199,
   "metadata": {},
   "outputs": [
    {
     "data": {
      "text/plain": [
       "['4 skinless, boneless chicken breast halves',\n",
       " '2 tablespoons butter',\n",
       " '2 (10.75 ounce) cans condensed cream of chicken soup',\n",
       " '1 onion, finely diced',\n",
       " '2 (10 ounce) packages refrigerated biscuit dough, torn into pieces']"
      ]
     },
     "execution_count": 199,
     "metadata": {},
     "output_type": "execute_result"
    }
   ],
   "source": [
    "recipes.loc[0,'ingredients']"
   ]
  },
  {
   "cell_type": "code",
   "execution_count": 200,
   "metadata": {},
   "outputs": [
    {
     "data": {
      "text/plain": [
       "0    4 skinless, boneless chicken breast halves; 2 ...\n",
       "1    2 (10.75 ounce) cans condensed cream of mushro...\n",
       "2    1/2 cup packed brown sugar; 1/2 cup ketchup; 1...\n",
       "3    1 cup butter, softened; 1 cup white sugar; 1 c...\n",
       "4    8 ounces whole wheat rotini pasta; 3 cups fres...\n",
       "Name: ingredient_text, dtype: object"
      ]
     },
     "execution_count": 200,
     "metadata": {},
     "output_type": "execute_result"
    }
   ],
   "source": [
    "# Extracting ingredients from their lists and formatting as single strings\n",
    "recipes['ingredient_text'] = ['; '.join(ingredients) for ingredients in recipes['ingredients']]\n",
    "recipes['ingredient_text'].head()\n"
   ]
  },
  {
   "cell_type": "code",
   "execution_count": 201,
   "metadata": {},
   "outputs": [],
   "source": [
    "# Counting the number of ingredients used in each recipe\n",
    "recipes['ingredient_count'] = [len(ingredients) for ingredients in recipes['ingredients']]"
   ]
  },
  {
   "cell_type": "code",
   "execution_count": 212,
   "metadata": {},
   "outputs": [
    {
     "data": {
      "text/html": [
       "<div>\n",
       "<style scoped>\n",
       "    .dataframe tbody tr th:only-of-type {\n",
       "        vertical-align: middle;\n",
       "    }\n",
       "\n",
       "    .dataframe tbody tr th {\n",
       "        vertical-align: top;\n",
       "    }\n",
       "\n",
       "    .dataframe thead th {\n",
       "        text-align: right;\n",
       "    }\n",
       "</style>\n",
       "<table border=\"1\" class=\"dataframe\">\n",
       "  <thead>\n",
       "    <tr style=\"text-align: right;\">\n",
       "      <th></th>\n",
       "      <th>ingredients</th>\n",
       "      <th>instructions</th>\n",
       "      <th>picture_link</th>\n",
       "      <th>title</th>\n",
       "      <th>ingredient_text</th>\n",
       "      <th>ingredient_count</th>\n",
       "    </tr>\n",
       "  </thead>\n",
       "  <tbody>\n",
       "    <tr>\n",
       "      <th>0</th>\n",
       "      <td>[4 skinless, boneless chicken breast halves, 2...</td>\n",
       "      <td>Place the chicken, butter, soup, and onion in ...</td>\n",
       "      <td>55lznCYBbs2mT8BTx6BTkLhynGHzM.S</td>\n",
       "      <td>Slow Cooker Chicken and Dumplings</td>\n",
       "      <td>4 skinless, boneless chicken breast halves; 2 ...</td>\n",
       "      <td>5</td>\n",
       "    </tr>\n",
       "  </tbody>\n",
       "</table>\n",
       "</div>"
      ],
      "text/plain": [
       "                                         ingredients  \\\n",
       "0  [4 skinless, boneless chicken breast halves, 2...   \n",
       "\n",
       "                                        instructions  \\\n",
       "0  Place the chicken, butter, soup, and onion in ...   \n",
       "\n",
       "                      picture_link                              title  \\\n",
       "0  55lznCYBbs2mT8BTx6BTkLhynGHzM.S  Slow Cooker Chicken and Dumplings   \n",
       "\n",
       "                                     ingredient_text  ingredient_count  \n",
       "0  4 skinless, boneless chicken breast halves; 2 ...                 5  "
      ]
     },
     "execution_count": 212,
     "metadata": {},
     "output_type": "execute_result"
    }
   ],
   "source": [
    "recipes.head(1)"
   ]
  },
  {
   "cell_type": "code",
   "execution_count": 211,
   "metadata": {},
   "outputs": [
    {
     "data": {
      "text/plain": [
       "'Slow Cooker Chicken and Dumplings 4 skinless, boneless chicken breast halves; 2 tablespoons butter; 2 (10.75 ounce) cans condensed cream of chicken soup; 1 onion, finely diced; 2 (10 ounce) packages refrigerated biscuit dough, torn into pieces Place the chicken, butter, soup, and onion in a slow cooker, and fill with enough water to cover.\\nCover, and cook for 5 to 6 hours on High. About 30 minutes before serving, place the torn biscuit dough in the slow cooker. Cook until the dough is no longer raw in the center.\\n'"
      ]
     },
     "execution_count": 211,
     "metadata": {},
     "output_type": "execute_result"
    }
   ],
   "source": [
    "all_text = recipes['title'] + ' ' + recipes['ingredient_text'] + ' ' + recipes['instructions']\n",
    "all_text[0]"
   ]
  },
  {
   "cell_type": "code",
   "execution_count": null,
   "metadata": {},
   "outputs": [],
   "source": [
    "# Clean_text Function\n",
    "import string\n",
    "import re\n",
    "\n",
    "def clean_text(documents):\n",
    "    cleaned_text = []\n",
    "    for doc in documents:\n",
    "        doc = doc.translate(str.maketrans('', '', string.punctuation)) # Remove Punctuation\n",
    "        doc = re.sub(r'\\d+', '', doc) # Remove Digits\n",
    "        doc = doc.replace('\\n',' ') # Remove New Lines\n",
    "        doc = doc.strip() # Remove Leading White Space\n",
    "        doc = re.sub(' +', ' ', doc) # Remove multiple white spaces\n",
    "        cleaned_text.append(doc)\n",
    "    return cleaned_text\n",
    "\n",
    "# Cleaning Text\n",
    "cleaned_text = clean_text(all_text)"
   ]
  },
  {
   "cell_type": "code",
   "execution_count": 228,
   "metadata": {},
   "outputs": [
    {
     "data": {
      "text/plain": [
       "'Brown Sugar Meatloaf cup packed brown sugar cup ketchup pounds lean ground beef cup milk eggs teaspoons salt teaspoon ground black pepper small onion chopped teaspoon ground ginger cup finely crushed saltine cracker crumbs Preheat oven to degrees F degrees C Lightly grease a x inch loaf pan Press the brown sugar in the bottom of the prepared loaf pan and spread the ketchup over the sugar In a mixing bowl mix thoroughly all remaining ingredients and shape into a loaf Place on top of the ketchup Bake in preheated oven for hour or until juices are clear'"
      ]
     },
     "execution_count": 228,
     "metadata": {},
     "output_type": "execute_result"
    }
   ],
   "source": [
    "cleaned_text[2]"
   ]
  },
  {
   "cell_type": "markdown",
   "metadata": {},
   "source": [
    "### Tokenizing Using Spacy"
   ]
  },
  {
   "cell_type": "markdown",
   "metadata": {},
   "source": [
    "For this tokenization, we will lemmatize the words. This is will help create a denser word embeddings. However, no POS tagging, know entities, or noun_phrases will be parsed and added."
   ]
  },
  {
   "cell_type": "code",
   "execution_count": 230,
   "metadata": {},
   "outputs": [
    {
     "data": {
      "text/plain": [
       "'Brown Sugar Meatloaf cup pack brown sugar cup ketchup pound lean ground beef cup milk egg teaspoon salt teaspoon ground black pepper small onion chop teaspoon ground ginger cup finely crush saltine cracker crumb Preheat oven to degree F degree C lightly grease a x inch loaf pan Press the brown sugar in the bottom of the prepared loaf pan and spread the ketchup over the sugar in a mixing bowl mix thoroughly all remain ingredient and shape into a loaf Place on top of the ketchup Bake in preheat oven for hour or until juice be clear'"
      ]
     },
     "execution_count": 230,
     "metadata": {},
     "output_type": "execute_result"
    }
   ],
   "source": [
    "# Testing Strategies and Code\n",
    "nlp = spacy.load('en')\n",
    "\n",
    "' '.join([token.lemma_ for token in nlp(cleaned_text[2]) if not token.is_stop])"
   ]
  },
  {
   "cell_type": "markdown",
   "metadata": {},
   "source": [
    "My current strategy is to strip down the text as much as possible. In this case that means lemmatizing words and removing stop words. The goal here is not text prediction, but similarity measures and keyword extraction, which don't require the semantic granularity that stop words and non-lemmatized words might provide."
   ]
  },
  {
   "cell_type": "code",
   "execution_count": 231,
   "metadata": {},
   "outputs": [],
   "source": [
    "# Tokenizing Function that lemmatizes words and removes Stop Words\n",
    "def text_tokenizer(documents):\n",
    "    tokenized_documents = []\n",
    "    for doc in documents:\n",
    "        tok_doc = ' '.join([token.lemma_ for token in nlp(doc) if not token.is_stop])\n",
    "        tokenized_documents.append(tok_doc)\n",
    "    return tokenized_documents"
   ]
  },
  {
   "cell_type": "code",
   "execution_count": 237,
   "metadata": {},
   "outputs": [],
   "source": [
    "# Tokenizing Function to run in parallel\n",
    "def text_tokenizer_mp(doc):\n",
    "    tok_doc = ' '.join([token.lemma_ for token in nlp(doc) if not token.is_stop])\n",
    "    return tok_doc"
   ]
  },
  {
   "cell_type": "code",
   "execution_count": 236,
   "metadata": {},
   "outputs": [
    {
     "name": "stdout",
     "output_type": "stream",
     "text": [
      "Number of processors:  12\n"
     ]
    }
   ],
   "source": [
    "import multiprocessing as mp\n",
    "print(\"Number of processors: \", mp.cpu_count())"
   ]
  },
  {
   "cell_type": "code",
   "execution_count": 242,
   "metadata": {},
   "outputs": [
    {
     "name": "stderr",
     "output_type": "stream",
     "text": [
      "Process ForkPoolWorker-41:\n",
      "Process ForkPoolWorker-42:\n",
      "Process ForkPoolWorker-45:\n",
      "Process ForkPoolWorker-46:\n",
      "Process ForkPoolWorker-47:\n",
      "Process ForkPoolWorker-39:\n",
      "Process ForkPoolWorker-48:\n",
      "Process ForkPoolWorker-43:\n",
      "Process ForkPoolWorker-44:\n",
      "Process ForkPoolWorker-38:\n",
      "Process ForkPoolWorker-40:\n",
      "Process ForkPoolWorker-37:\n",
      "Traceback (most recent call last):\n",
      "Traceback (most recent call last):\n",
      "Traceback (most recent call last):\n",
      "Traceback (most recent call last):\n",
      "  File \"/usr/local/Cellar/python/3.7.4/Frameworks/Python.framework/Versions/3.7/lib/python3.7/multiprocessing/process.py\", line 297, in _bootstrap\n",
      "    self.run()\n",
      "Traceback (most recent call last):\n",
      "Traceback (most recent call last):\n",
      "Traceback (most recent call last):\n",
      "Traceback (most recent call last):\n",
      "Traceback (most recent call last):\n",
      "Traceback (most recent call last):\n",
      "  File \"/usr/local/Cellar/python/3.7.4/Frameworks/Python.framework/Versions/3.7/lib/python3.7/multiprocessing/process.py\", line 297, in _bootstrap\n",
      "    self.run()\n",
      "  File \"/usr/local/Cellar/python/3.7.4/Frameworks/Python.framework/Versions/3.7/lib/python3.7/multiprocessing/process.py\", line 297, in _bootstrap\n",
      "    self.run()\n",
      "  File \"/usr/local/Cellar/python/3.7.4/Frameworks/Python.framework/Versions/3.7/lib/python3.7/multiprocessing/process.py\", line 99, in run\n",
      "    self._target(*self._args, **self._kwargs)\n",
      "  File \"/usr/local/Cellar/python/3.7.4/Frameworks/Python.framework/Versions/3.7/lib/python3.7/multiprocessing/process.py\", line 297, in _bootstrap\n",
      "    self.run()\n",
      "  File \"/usr/local/Cellar/python/3.7.4/Frameworks/Python.framework/Versions/3.7/lib/python3.7/multiprocessing/process.py\", line 297, in _bootstrap\n",
      "    self.run()\n",
      "  File \"/usr/local/Cellar/python/3.7.4/Frameworks/Python.framework/Versions/3.7/lib/python3.7/multiprocessing/process.py\", line 297, in _bootstrap\n",
      "    self.run()\n",
      "Traceback (most recent call last):\n",
      "  File \"/usr/local/Cellar/python/3.7.4/Frameworks/Python.framework/Versions/3.7/lib/python3.7/multiprocessing/process.py\", line 297, in _bootstrap\n",
      "    self.run()\n",
      "  File \"/usr/local/Cellar/python/3.7.4/Frameworks/Python.framework/Versions/3.7/lib/python3.7/multiprocessing/process.py\", line 297, in _bootstrap\n",
      "    self.run()\n",
      "Traceback (most recent call last):\n",
      "  File \"/usr/local/Cellar/python/3.7.4/Frameworks/Python.framework/Versions/3.7/lib/python3.7/multiprocessing/process.py\", line 99, in run\n",
      "    self._target(*self._args, **self._kwargs)\n",
      "  File \"/usr/local/Cellar/python/3.7.4/Frameworks/Python.framework/Versions/3.7/lib/python3.7/multiprocessing/pool.py\", line 110, in worker\n",
      "    task = get()\n",
      "  File \"/usr/local/Cellar/python/3.7.4/Frameworks/Python.framework/Versions/3.7/lib/python3.7/multiprocessing/process.py\", line 99, in run\n",
      "    self._target(*self._args, **self._kwargs)\n",
      "  File \"/usr/local/Cellar/python/3.7.4/Frameworks/Python.framework/Versions/3.7/lib/python3.7/multiprocessing/process.py\", line 99, in run\n",
      "    self._target(*self._args, **self._kwargs)\n",
      "  File \"/usr/local/Cellar/python/3.7.4/Frameworks/Python.framework/Versions/3.7/lib/python3.7/multiprocessing/process.py\", line 99, in run\n",
      "    self._target(*self._args, **self._kwargs)\n",
      "  File \"/usr/local/Cellar/python/3.7.4/Frameworks/Python.framework/Versions/3.7/lib/python3.7/multiprocessing/process.py\", line 99, in run\n",
      "    self._target(*self._args, **self._kwargs)\n",
      "  File \"/usr/local/Cellar/python/3.7.4/Frameworks/Python.framework/Versions/3.7/lib/python3.7/multiprocessing/process.py\", line 297, in _bootstrap\n",
      "    self.run()\n",
      "  File \"/usr/local/Cellar/python/3.7.4/Frameworks/Python.framework/Versions/3.7/lib/python3.7/multiprocessing/process.py\", line 99, in run\n",
      "    self._target(*self._args, **self._kwargs)\n",
      "  File \"/usr/local/Cellar/python/3.7.4/Frameworks/Python.framework/Versions/3.7/lib/python3.7/multiprocessing/process.py\", line 99, in run\n",
      "    self._target(*self._args, **self._kwargs)\n",
      "  File \"/usr/local/Cellar/python/3.7.4/Frameworks/Python.framework/Versions/3.7/lib/python3.7/multiprocessing/pool.py\", line 110, in worker\n",
      "    task = get()\n",
      "  File \"/usr/local/Cellar/python/3.7.4/Frameworks/Python.framework/Versions/3.7/lib/python3.7/multiprocessing/pool.py\", line 110, in worker\n",
      "    task = get()\n",
      "  File \"/usr/local/Cellar/python/3.7.4/Frameworks/Python.framework/Versions/3.7/lib/python3.7/multiprocessing/queues.py\", line 351, in get\n",
      "    with self._rlock:\n",
      "  File \"/usr/local/Cellar/python/3.7.4/Frameworks/Python.framework/Versions/3.7/lib/python3.7/multiprocessing/pool.py\", line 110, in worker\n",
      "    task = get()\n",
      "  File \"/usr/local/Cellar/python/3.7.4/Frameworks/Python.framework/Versions/3.7/lib/python3.7/multiprocessing/pool.py\", line 110, in worker\n",
      "    task = get()\n",
      "  File \"/usr/local/Cellar/python/3.7.4/Frameworks/Python.framework/Versions/3.7/lib/python3.7/multiprocessing/pool.py\", line 110, in worker\n",
      "    task = get()\n",
      "  File \"/usr/local/Cellar/python/3.7.4/Frameworks/Python.framework/Versions/3.7/lib/python3.7/multiprocessing/pool.py\", line 110, in worker\n",
      "    task = get()\n",
      "  File \"/usr/local/Cellar/python/3.7.4/Frameworks/Python.framework/Versions/3.7/lib/python3.7/multiprocessing/queues.py\", line 351, in get\n",
      "    with self._rlock:\n",
      "  File \"/usr/local/Cellar/python/3.7.4/Frameworks/Python.framework/Versions/3.7/lib/python3.7/multiprocessing/synchronize.py\", line 95, in __enter__\n",
      "    return self._semlock.__enter__()\n",
      "  File \"/usr/local/Cellar/python/3.7.4/Frameworks/Python.framework/Versions/3.7/lib/python3.7/multiprocessing/process.py\", line 297, in _bootstrap\n",
      "    self.run()\n",
      "  File \"/usr/local/Cellar/python/3.7.4/Frameworks/Python.framework/Versions/3.7/lib/python3.7/multiprocessing/process.py\", line 297, in _bootstrap\n",
      "    self.run()\n",
      "  File \"/usr/local/Cellar/python/3.7.4/Frameworks/Python.framework/Versions/3.7/lib/python3.7/multiprocessing/process.py\", line 99, in run\n",
      "    self._target(*self._args, **self._kwargs)\n",
      "  File \"/usr/local/Cellar/python/3.7.4/Frameworks/Python.framework/Versions/3.7/lib/python3.7/multiprocessing/queues.py\", line 351, in get\n",
      "    with self._rlock:\n",
      "  File \"/usr/local/Cellar/python/3.7.4/Frameworks/Python.framework/Versions/3.7/lib/python3.7/multiprocessing/queues.py\", line 351, in get\n",
      "    with self._rlock:\n",
      "  File \"/usr/local/Cellar/python/3.7.4/Frameworks/Python.framework/Versions/3.7/lib/python3.7/multiprocessing/process.py\", line 297, in _bootstrap\n",
      "    self.run()\n",
      "  File \"/usr/local/Cellar/python/3.7.4/Frameworks/Python.framework/Versions/3.7/lib/python3.7/multiprocessing/pool.py\", line 110, in worker\n",
      "    task = get()\n",
      "  File \"/usr/local/Cellar/python/3.7.4/Frameworks/Python.framework/Versions/3.7/lib/python3.7/multiprocessing/synchronize.py\", line 95, in __enter__\n",
      "    return self._semlock.__enter__()\n",
      "KeyboardInterrupt\n",
      "  File \"/usr/local/Cellar/python/3.7.4/Frameworks/Python.framework/Versions/3.7/lib/python3.7/multiprocessing/queues.py\", line 351, in get\n",
      "    with self._rlock:\n",
      "  File \"/usr/local/Cellar/python/3.7.4/Frameworks/Python.framework/Versions/3.7/lib/python3.7/multiprocessing/queues.py\", line 351, in get\n",
      "    with self._rlock:\n",
      "  File \"/usr/local/Cellar/python/3.7.4/Frameworks/Python.framework/Versions/3.7/lib/python3.7/multiprocessing/queues.py\", line 351, in get\n",
      "    with self._rlock:\n",
      "  File \"/usr/local/Cellar/python/3.7.4/Frameworks/Python.framework/Versions/3.7/lib/python3.7/multiprocessing/synchronize.py\", line 95, in __enter__\n",
      "    return self._semlock.__enter__()\n",
      "  File \"/usr/local/Cellar/python/3.7.4/Frameworks/Python.framework/Versions/3.7/lib/python3.7/multiprocessing/process.py\", line 99, in run\n",
      "    self._target(*self._args, **self._kwargs)\n",
      "  File \"/usr/local/Cellar/python/3.7.4/Frameworks/Python.framework/Versions/3.7/lib/python3.7/multiprocessing/queues.py\", line 351, in get\n",
      "    with self._rlock:\n",
      "  File \"/usr/local/Cellar/python/3.7.4/Frameworks/Python.framework/Versions/3.7/lib/python3.7/multiprocessing/process.py\", line 99, in run\n",
      "    self._target(*self._args, **self._kwargs)\n",
      "  File \"/usr/local/Cellar/python/3.7.4/Frameworks/Python.framework/Versions/3.7/lib/python3.7/multiprocessing/pool.py\", line 110, in worker\n",
      "    task = get()\n",
      "  File \"/usr/local/Cellar/python/3.7.4/Frameworks/Python.framework/Versions/3.7/lib/python3.7/multiprocessing/synchronize.py\", line 95, in __enter__\n",
      "    return self._semlock.__enter__()\n",
      "  File \"/usr/local/Cellar/python/3.7.4/Frameworks/Python.framework/Versions/3.7/lib/python3.7/multiprocessing/synchronize.py\", line 95, in __enter__\n",
      "    return self._semlock.__enter__()\n"
     ]
    },
    {
     "name": "stderr",
     "output_type": "stream",
     "text": [
      "  File \"/usr/local/Cellar/python/3.7.4/Frameworks/Python.framework/Versions/3.7/lib/python3.7/multiprocessing/synchronize.py\", line 95, in __enter__\n",
      "    return self._semlock.__enter__()\n",
      "KeyboardInterrupt\n",
      "KeyboardInterrupt\n",
      "  File \"/usr/local/Cellar/python/3.7.4/Frameworks/Python.framework/Versions/3.7/lib/python3.7/multiprocessing/synchronize.py\", line 95, in __enter__\n",
      "    return self._semlock.__enter__()\n",
      "KeyboardInterrupt\n",
      "  File \"/usr/local/Cellar/python/3.7.4/Frameworks/Python.framework/Versions/3.7/lib/python3.7/multiprocessing/synchronize.py\", line 95, in __enter__\n",
      "    return self._semlock.__enter__()\n",
      "KeyboardInterrupt\n",
      "  File \"/usr/local/Cellar/python/3.7.4/Frameworks/Python.framework/Versions/3.7/lib/python3.7/multiprocessing/process.py\", line 99, in run\n",
      "    self._target(*self._args, **self._kwargs)\n",
      "  File \"/usr/local/Cellar/python/3.7.4/Frameworks/Python.framework/Versions/3.7/lib/python3.7/multiprocessing/queues.py\", line 351, in get\n",
      "    with self._rlock:\n",
      "KeyboardInterrupt\n",
      "KeyboardInterrupt\n",
      "KeyboardInterrupt\n",
      "  File \"/usr/local/Cellar/python/3.7.4/Frameworks/Python.framework/Versions/3.7/lib/python3.7/multiprocessing/pool.py\", line 110, in worker\n",
      "    task = get()\n",
      "  File \"/usr/local/Cellar/python/3.7.4/Frameworks/Python.framework/Versions/3.7/lib/python3.7/multiprocessing/pool.py\", line 110, in worker\n",
      "    task = get()\n",
      "  File \"/usr/local/Cellar/python/3.7.4/Frameworks/Python.framework/Versions/3.7/lib/python3.7/multiprocessing/synchronize.py\", line 95, in __enter__\n",
      "    return self._semlock.__enter__()\n",
      "  File \"/usr/local/Cellar/python/3.7.4/Frameworks/Python.framework/Versions/3.7/lib/python3.7/multiprocessing/pool.py\", line 110, in worker\n",
      "    task = get()\n",
      "  File \"/usr/local/Cellar/python/3.7.4/Frameworks/Python.framework/Versions/3.7/lib/python3.7/multiprocessing/queues.py\", line 351, in get\n",
      "    with self._rlock:\n",
      "KeyboardInterrupt\n",
      "  File \"/usr/local/Cellar/python/3.7.4/Frameworks/Python.framework/Versions/3.7/lib/python3.7/multiprocessing/queues.py\", line 351, in get\n",
      "    with self._rlock:\n",
      "  File \"/usr/local/Cellar/python/3.7.4/Frameworks/Python.framework/Versions/3.7/lib/python3.7/multiprocessing/queues.py\", line 352, in get\n",
      "    res = self._reader.recv_bytes()\n",
      "  File \"/usr/local/Cellar/python/3.7.4/Frameworks/Python.framework/Versions/3.7/lib/python3.7/multiprocessing/synchronize.py\", line 95, in __enter__\n",
      "    return self._semlock.__enter__()\n",
      "  File \"/usr/local/Cellar/python/3.7.4/Frameworks/Python.framework/Versions/3.7/lib/python3.7/multiprocessing/synchronize.py\", line 95, in __enter__\n",
      "    return self._semlock.__enter__()\n",
      "KeyboardInterrupt\n",
      "  File \"/usr/local/Cellar/python/3.7.4/Frameworks/Python.framework/Versions/3.7/lib/python3.7/multiprocessing/connection.py\", line 216, in recv_bytes\n",
      "    buf = self._recv_bytes(maxlength)\n",
      "KeyboardInterrupt\n",
      "  File \"/usr/local/Cellar/python/3.7.4/Frameworks/Python.framework/Versions/3.7/lib/python3.7/multiprocessing/connection.py\", line 407, in _recv_bytes\n",
      "    buf = self._recv(4)\n",
      "  File \"/usr/local/Cellar/python/3.7.4/Frameworks/Python.framework/Versions/3.7/lib/python3.7/multiprocessing/connection.py\", line 379, in _recv\n",
      "    chunk = read(handle, remaining)\n",
      "KeyboardInterrupt\n"
     ]
    }
   ],
   "source": [
    "# Parallelzing tokenizing process\n",
    "pool = mp.Pool(mp.cpu_count())\n",
    "tokenized_text = pool.map(text_tokenizer_mp, [doc for doc in cleaned_text])"
   ]
  },
  {
   "cell_type": "code",
   "execution_count": null,
   "metadata": {},
   "outputs": [],
   "source": [
    "# Save the tokenized_text variable as a csv in order to return to it;\n",
    "# Do not attempt to run the parser above, it will simply take too long\n",
    "# Reload the csv from file insted\n",
    "pd.Series(tokenized_text).to_csv('tokenized_text.csv')"
   ]
  },
  {
   "cell_type": "code",
   "execution_count": 244,
   "metadata": {},
   "outputs": [
    {
     "data": {
      "text/plain": [
       "'Slow Cooker Chicken Dumplings skinless boneless chicken breast halve tablespoon butter ounce can condense cream chicken soup onion finely diced ounce package refrigerate biscuit dough tear piece Place chicken butter soup onion slow cooker fill water cover Cover cook hour high minute serve place torn biscuit dough slow cooker Cook dough longer raw center'"
      ]
     },
     "execution_count": 244,
     "metadata": {},
     "output_type": "execute_result"
    }
   ],
   "source": [
    "tokenized_text[0]"
   ]
  },
  {
   "cell_type": "markdown",
   "metadata": {},
   "source": [
    "### Creating Word Embeddings\n",
    "\n",
    "- TF-IDF\n",
    "- Pre-trained GloVe Word Embeddings\n",
    "- GloVe Embeddings trained on the recipe corpora\n",
    "\n",
    "In an attempt to create dense word embeddings, I could find no reliable examples to follow that integrate GloVe or Word2Vec with document topic modeling."
   ]
  },
  {
   "cell_type": "code",
   "execution_count": 251,
   "metadata": {},
   "outputs": [
    {
     "name": "stdout",
     "output_type": "stream",
     "text": [
      "(122911, 49785)\n",
      "49785\n"
     ]
    }
   ],
   "source": [
    "from sklearn.feature_extraction.text import TfidfVectorizer\n",
    "\n",
    "vectorizer = TfidfVectorizer(lowercase = True,\n",
    "                            ngram_range = (1,1))\n",
    "\n",
    "text_tfidf = vectorizer.fit_transform(tokenized_text)\n",
    "tfidf_words = vectorizer.get_feature_names()\n",
    "print(text_tfidf.shape)\n",
    "print(len(tfidf_words))"
   ]
  },
  {
   "cell_type": "markdown",
   "metadata": {},
   "source": [
    "## Topic Modeling\n",
    "- LDA\n",
    "- NNMF\n",
    "\n",
    "The ultimate goal with topic modeling is to group documents together and generate category words using TextRank. These category words can then be used to further refine the recommendation query\n",
    "\n",
    "------\n",
    "\n",
    "LDA and NNMF extract topic models by finding similar subgroups of text within the corpora of recipes (or other text documents). However"
   ]
  },
  {
   "cell_type": "code",
   "execution_count": 252,
   "metadata": {},
   "outputs": [
    {
     "data": {
      "text/plain": [
       "(122911, 49785)"
      ]
     },
     "execution_count": 252,
     "metadata": {},
     "output_type": "execute_result"
    }
   ],
   "source": [
    "text_tfidf.shape"
   ]
  },
  {
   "cell_type": "code",
   "execution_count": 253,
   "metadata": {},
   "outputs": [
    {
     "data": {
      "text/plain": [
       "(122911, 50)"
      ]
     },
     "execution_count": 253,
     "metadata": {},
     "output_type": "execute_result"
    }
   ],
   "source": [
    "from sklearn.decomposition import LatentDirichletAllocation as LDA\n",
    "\n",
    "lda = LDA(n_components = 50,\n",
    "          n_jobs = -1,\n",
    "          max_iter = 100)\n",
    "text_lda = lda.fit_transform(text_tfidf)\n",
    "text_lda.shape"
   ]
  },
  {
   "cell_type": "code",
   "execution_count": 254,
   "metadata": {},
   "outputs": [
    {
     "data": {
      "text/plain": [
       "(122911, 50)"
      ]
     },
     "execution_count": 254,
     "metadata": {},
     "output_type": "execute_result"
    }
   ],
   "source": [
    "from sklearn.decomposition import NMF\n",
    "\n",
    "nmf = NMF(alpha=0.0,\n",
    "         init='nndsvdar',\n",
    "         l1_ratio=0.0,\n",
    "         max_iter = 100,\n",
    "         n_components = 50,\n",
    "         solver='cd')\n",
    "\n",
    "text_nmf = nmf.fit_transform(text_tfidf)\n",
    "text_nmf.shape"
   ]
  },
  {
   "cell_type": "markdown",
   "metadata": {},
   "source": [
    "Models were arbitrarily set to 50 topics. Unfortunately, neither NNMF nor LDA have the ability to calculate the percentage of variance that they capture from the original tfidf matrix. So 50 topics is purely a shot in the dark."
   ]
  },
  {
   "cell_type": "markdown",
   "metadata": {},
   "source": [
    "Next Steps:\n",
    "1. Document x Topic Matrix\n",
    "2. Word x Topic Matrix"
   ]
  },
  {
   "cell_type": "markdown",
   "metadata": {},
   "source": [
    "## Exploring Topics by Document"
   ]
  },
  {
   "cell_type": "code",
   "execution_count": 415,
   "metadata": {},
   "outputs": [],
   "source": [
    "# variable dependencies:\n",
    "text_series = pd.Series(all_text)\n",
    "\n",
    "def docs_by_tops(top_mat, topic_range = (0,0), doc_range = (0,2)):\n",
    "    for i in range(topic_range[0], topic_range[1]):\n",
    "        topic_scores = pd.Series(top_mat[:,i])\n",
    "        doc_index = topic_scores.sort_values(ascending = False)[doc_range[0]:doc_range[1]].index\n",
    "        for j, index in enumerate(doc_index, doc_range[0]):\n",
    "            print('Topic #{}'.format(i),\n",
    "                  '\\nDocument #{}'.format(j),\n",
    "                  '\\nTopic Score: {}\\n\\n'.format(topic_scores[index]),\n",
    "                  text_series[index], '\\n\\n')"
   ]
  },
  {
   "cell_type": "code",
   "execution_count": 402,
   "metadata": {},
   "outputs": [
    {
     "name": "stdout",
     "output_type": "stream",
     "text": [
      "Topic #0 \n",
      "Document #0 \n",
      "Topic Score: 0.9123109709196908\n",
      "\n",
      " Greek Shrimp Salad 1/2 cup plain yogurt; 2 tablespoons fresh lemon juice; 2 tablespoons cucumber, peeled, seeded, and finely diced; 1 tablespoon minced red onion; 1 tablespoon minced fresh dill leaves; 1 teaspoon minced garlic; Pinch cayenne pepper; Kosher salt; Freshly ground black pepper; 1 romaine heart, torn into bite-size pieces; 4 cups mixed baby lettuces, washed and dried; 1/2 cup each red and yellow bell peppers, cored, seeded, trimmed, and cut into 1-inch cubes; 1/2 cup Caramelized Onions (recipe follows); 1/2 cup Kalamata olives, pitted; 1 small cucumber, peeled, seeded, quartered, cut into 1/2-inch slices; 1 cup yellow pear and Sweet 100 cherry tomatoes, cut in halves; 1/2 cup freshly grated Parmesan cheese; 1 cup crumbled feta cheese; 1 cup Greek Salad Dressing, recipe follows; Kosher salt; Freshly ground black pepper; 16 large shrimp, peeled, deveined, cut in half horizontally, blanched; 1/4 cup toasted pine nuts *; Fresh dill sprigs; 2 tablespoons extra virgin olive oil; 1 large red, yellow, or white onion, (3/4 pound), peeled, trimmed and cut into 3/4-inch dice; 2 tablespoons balsamic vinegar; Kosher salt and freshly ground black pepper; 1 tablespoon minced fresh dill leaves; 1 tablespoon minced fresh parsley leaves; 1 tablespoon minced fresh thyme leaves; 1 cup plain yogurt; 2 tablespoons minced garlic; 1/4 cup Dijon mustard; 1/4 cup red wine vinegar; 1/3 cup fresh lemon juice; 1/2 teaspoon kosher salt; 1/4 teaspoon freshly ground white pepper; 1 1/2 cups extra virgin olive oil; Sugar Watch how to make this recipe.\n",
      "In a medium bowl, whisk together the first 6 ingredients until well blended. Season with cayenne, salt, and pepper to taste. Refrigerate in a covered container. When ready to use, whisk again.\n",
      "In a large mixing bowl, combine the romaine, baby lettuces, bell peppers, onions, olives, cucumber, tomatoes, cheeses, and Greek Salad Dressing. Toss until blended. Season with salt and pepper. Divide and mound onto 4 chilled salad plates.\n",
      "In a medium bowl, toss together the shrimp and Shrimp Dressing. Arrange 8 shrimp halves over and around salad mound. Top with pine nuts and garnish with dill sprigs.\n",
      "* To toast pine nuts, place the nuts in a small skillet in a single layer. Over low heat, toast until lightly golden, stirring often to prevent burning. This takes 3 or 4 minutes. Drain on paper towels.\n",
      "In a 10-inch skillet or saute pan, heat the oil. Add the onion and cook over medium heat, stirring frequently, until lightly browned, about 15 minutes. Add the vinegar and cook 1 minute longer. Season with salt and pepper, to taste.\n",
      "Cool the onion and transfer to a covered container. Refrigerate and use as needed.\n",
      "Yield: about 3/4 cup\n",
      "In a medium bowl, whisk together the dill, parsley, thyme, yogurt, garlic, mustard, vinegar, lemon juice, salt, and pepper. Slowly whisk in the oil, and when emulsified, season with sugar to taste.\n",
      "Refrigerate in a covered container. When ready to use, whisk again.\n",
      "Yield: 2 1/2 cups \n",
      "\n",
      "\n",
      "Topic #0 \n",
      "Document #1 \n",
      "Topic Score: 0.905831916985129\n",
      "\n",
      " Roasted Beet Napoleon 1 1/2 pounds large yellow or red beets, washed and trimmed; 1/2 cup rice wine vinegar; 1/2 cup granulated sugar; 1 tablespoon extra virgin olive oil; 1/2 recipe Herbed Goat Cheese, recipe follows, cut into 8 round slices; 1 to 1 1/2 cups mixed baby lettuces, washed and dried; 1/4 cup Spago House Dressing, recipe follows; 1/4 cup Citrus Hazelnut Vinaigrette, recipe follows; 1 ounce toasted hazelnuts, recipe follows, coarsely chopped; 2 teaspoons chopped fresh flat-leaf parsley leaves; 2 teaspoons chopped fresh chives; 1 teaspoon chopped fresh thyme leaves; 1/2 teaspoon freshly ground black pepper; 1 ( 7 or 8-ounce) log goat cheese; 2 large shallots, minced (1 heaping tablespoon); 1 tablespoon Dijon mustard; 2 tablespoons zinfandel vinegar; 2 tablespoons sherry wine vinegar; 1/2 cup olive oil; 1/2 cup vegetable oil; Salt; Freshly ground white pepper; 1 1/2 cups fresh orange juice; 1 shallot, peeled and minced; 1 teaspoon minced fresh thyme leaves; 2 tablespoons balsamic vinegar; 1/2 teaspoon orange zest; 1/3 cup hazelnut oil; 1/3 cup extra virgin olive oil; Salt Freshly ground black pepper; Hazelnuts Preheat the oven to 400 degrees F. Place the beets in a small roasting pan and pour in enough cold water to reach about 1/4 of the way up the sides of the beets. Cover the pan with foil, and roast the beets until they are tender, 2 hours to 2 hours and 15 minutes. To check for doneness, gently insert a bamboo skewer into a beet. The skewer should slide through easily. Remove the beets from the pan, allow to cool, and then peel.\n",
      "Cut each beet into 1/4-inch-thick round slices. Cut each slice with a 3-inch round cookie cutter. (You will need 10 rounds). Cut trimmings into 1/4-inch dice and reserve 1/2 cup for garnish.\n",
      "In a saute pan, bring vinegar and sugar to a boil. Lower to a simmer and poach beets 1 minute on each side. With a slotted spatula, remove and place on a baking tray lined with parchment paper. Cover and refrigerate until needed.\n",
      "When ready to assemble, heat the olive oil in a small saute pan. Arrange the slices of Herbed Goat Cheese in the pan and warm slightly, turning them with a small spatula just to warm both sides. This has to be done quickly, or the cheese will melt.\n",
      "To assemble the napoleons, place 1 of the beet rounds on a firm, flat surface and begin to layer. Top with a slice of goat cheese, then another beet round, a second slice of cheese, another beet round, a third slice of cheese, and a beet round. (Continue until you have 5 layers of beets and 4 layers of cheese.) Carefully cut through layers, dividing into 3 wedges. Repeat with the remaining beets and cheese.\n",
      "To serve, arrange 3 of the wedges, pointed ends facing out, in a circle in the center of each plate. Toss the baby lettuces with the Spago House Dressing and mound half of the lettuces on top of each arranged napoleon. Drizzle 1/2 of the Citrus Hazelnut Vinaigrette around each mound. Sprinkle toasted nuts and reserved diced beets on top of drizzled vinaigrette. Serve immediately.\n",
      "Combine the parsley, chives, thyme, and pepper and place on a flat surface. Roll the log of cheese in the mixture, coating all sides and retaining the shape of the log. Wrap in plastic wrap and refrigerate until needed.\n",
      "Yield: 1 (7 or 8-ounce) log\n",
      "Recipe courtesy Wolfgang Puck, \"Pizza, Pasta & More!,\" Random House, 2000\n",
      "In a small bowl, whisk together the shallots and the mustard. Whisk in the vinegars and then the olive and vegetable oil. Season with salt and pepper to taste. Transfer to a covered container and refrigerate until needed.\n",
      "Yield: 1 1/4 cups\n",
      "Recipe courtesy Wolfgang Puck, \"Adventures in the Kitchen,\" Random House, 1991\n",
      "In a medium saucepan, bring orange juice to a boil. Lower to a simmer and reduce until only 1/3 cup remains. Cool to room temperature.\n",
      "In a medium bowl, combine orange juice, shallot, thyme, vinegar and orange zest.\n",
      "Slowly whisk in both oils until thick and emulsified. Season with salt and pepper. Refrigerate until needed.\n",
      "Yield: 1 1/3 cups\n",
      "Recipe courtesy Wolfgang Puck, \"Pizza, Pasta & More!,\" Random House, 2000\n",
      "Preheat the oven to 350 degrees F. Arrange the hazelnuts on a medium baking tray and toast for 10 to 12 minutes, turning after 5 minutes. (This can be done in a toaster oven). Remove to a clean towel and rub to remove as much of the skin as possible. Chop coarsely and use when needed.\n",
      "Yield: 1 cup \n",
      "\n",
      "\n",
      "Topic #0 \n",
      "Document #2 \n",
      "Topic Score: 0.9051107443578724\n",
      "\n",
      " Wolfgang's Salad Tasting Plate: Roasted Beet Napoleon 1 1/2 pounds large yellow or red beets, washed and trimmed; 1/2 cup rice wine vinegar; 1/2 cup granulated sugar; 1 tablespoon extra-virgin olive oil; 1/2 recipe Herbed Goat Cheese, recipe follows, cut into 8 round slices; 1 to 1 1/2 cups mixed baby lettuces, washed and dried; 1/4 cup Spago House Dressing, recipe follows; 1/4 cup Citrus Hazelnut Vinaigrette, recipe follows; 1 ounce toasted hazelnuts, recipe follows, coarsely chopped; 2 teaspoons chopped fresh flat-leaf parsley leaves; 2 teaspoons chopped fresh chives; 1 teaspoon chopped fresh thyme leaves; 1/2 teaspoon freshly ground black pepper; 1 (7 or 8-ounce) log goat cheese; 2 large shallots, minced (1 heaping tablespoon); 1 tablespoon Dijon mustard; 2 tablespoons zinfandel vinegar; 2 tablespoons sherry wine vinegar; 1/2 cup olive oil; 1/2 cup vegetable oil; Salt; Freshly ground white pepper; 1 1/2 cups fresh orange juice; 1 shallot, peeled and minced; 1 teaspoon minced fresh thyme leaves; 2 tablespoons balsamic vinegar; 1/2 teaspoon orange zest; 1/3 cup hazelnut oil; 1/3 cup extra-virgin olive oil; Salt and freshly ground black pepper; 1 cup hazelnuts Preheat the oven to 400 degrees F.\n",
      "Place the beets in a small roasting pan and pour in enough cold water to reach about 1/4 of the way up the sides of the beets. Cover the pan with foil, and roast the beets until they are tender, 2 hours to 2 hours and 15 minutes. To check for doneness, gently insert a bamboo skewer into a beet. The skewer should slide through easily. Remove the beets from the pan, allow to cool, and then peel.\n",
      "Cut each beet into 1/4-inch-thick round slices. Cut each slice with a 3-inch round cookie cutter. (You will need 10 rounds). Cut trimmings into 1/4-inch dice and reserve 1/2 cup for garnish.\n",
      "In a saute pan, bring vinegar and sugar to a boil. Lower to a simmer and poach beets 1 minute on each side. With a slotted spatula, remove and place on a baking tray lined with parchment paper. Cover and refrigerate until needed.\n",
      "When ready to assemble, heat the olive oil in a small saute pan. Arrange the slices of Herbed Goat Cheese in the pan and warm slightly, turning them with a small spatula just to warm both sides. This has to be done quickly, or the cheese will melt.\n",
      "To assemble the napoleons, place 1 of the beet rounds on a firm, flat surface and begin to layer. Top with a slice of goat cheese, then another beet round, a second slice of cheese, another beet round, a third slice of cheese, and a beet round. (Continue until you have 5 layers of beets and 4 layers of cheese.) Carefully cut through layers, dividing into 3 wedges. Repeat with the remaining beets and cheese.\n",
      "To serve, arrange 3 of the wedges, pointed ends facing out, in a circle in the center of each plate. Toss the baby lettuces with the Spago House Dressing and mound half of the lettuces on top of each arranged napoleon. Drizzle 1/2 of the Citrus Hazelnut Vinaigrette around each mound. Sprinkle toasted nuts and reserved diced beets on top of drizzled vinaigrette. Serve immediately.\n",
      "Combine the parsley, chives, thyme, and pepper and place on a flat surface. Roll the log of cheese in the mixture, coating all sides and retaining the shape of the log. Wrap in plastic wrap and refrigerate until needed.\n",
      "1 (7 or 8-ounce) log\n",
      "Recipe courtesy Wolfgang Puck, \"Pizza, Pasta & More!,\" Random House, 2000\n",
      "In a small bowl, whisk together the shallots and the mustard. Whisk in the vinegars and then the olive and vegetable oil. Season with salt and pepper, to taste. Transfer to a covered container and refrigerate until needed.\n",
      "1 1/4 cups\n",
      "Recipe courtesy Wolfgang Puck, \"Adventures in the Kitchen\", Random House, 1991\n",
      "In a medium saucepan, bring orange juice to a boil. Lower to a simmer and reduce until only 1/3 cup remains. Cool to room temperature.\n",
      "In a medium bowl, combine orange juice, shallot, thyme, vinegar, and orange zest.\n",
      "Slowly whisk in both oils until thick and emulsified. Season with salt and pepper. Refrigerate until needed.\n",
      "1 1/3 cups\n",
      "Recipe courtesy Wolfgang Puck, \"Pizza, Pasta & More!,\" Random House, 2000\n",
      "Preheat the oven to 350 degrees F. Arrange the hazelnuts on a medium baking tray and toast for 10 to 12 minutes, turning after 5 minutes. (This can be done in a toaster oven). Remove to a clean towel and rub to remove as much of the skin as possible. Chop coarsely and use when needed. \n",
      "\n",
      "\n",
      "Topic #1 \n",
      "Document #0 \n",
      "Topic Score: 0.9148830821132027\n",
      "\n",
      " Braciola and Sausage Sunday Gravy 6 very thin top round steaks, about 8 ounces; Salt and freshly ground black pepper; 1 cup grated pecorino cheese, plus more to pass at the table; 1/2 cup homemade stale white breadcrumbs or panko, toasted; 3/4 cup fresh flat-leaf parsley leaves, chopped; 1/4 cup pine nuts or sliced almonds, toasted; 2 teaspoons lemon zest; 4 ounces salami or prosciutto di Parma, finely chopped; 6 cloves garlic, 3 minced or grated, 3 crushed; 2 small chile peppers such as Italian cherry or Fresno, 1 seeded and finely chopped (can substitute 1 teaspoon dried red crushed pepper flakes), and 1 thinly sliced; 5 tablespoons EVOO; 6 links hot Italian sausage; 1 teaspoon fennel seeds, 1/3 palmful; 1 cup dry red wine; 2 large cans Italian San Marzano tomatoes; 1 bay leaf; 1 small carrot, peeled and halved; 1 small rib celery, halved; 1 small onion, halved and peeled; 2 cups passata or tomato puree; A handful of fresh basil leaves, torn; 1 large red or yellow onion, thinly sliced; 2 cubanelle peppers, thinly sliced; 1 large red bell pepper, thinly sliced; 1 cup chicken or beef stock; 1 tablespoon tomato paste; 2 to 3 tablespoons butter; 1 1/2 pounds spaghetti Watch how to make this recipe.\n",
      "Sprinkle the meat on both sides with salt and pepper. In a bowl, combine half of the cheese, the breadcrumbs, 1/2 cup parsley, pine nuts, lemon zest, salami, minced garlic and the finely chopped chile pepper. Top the steaks, leaving a 1-inch border. Roll and tie the meat.\n",
      "Heat about 2 tablespoons of EVOO in a pot over medium-high heat. When the oil smokes, add the meat bundles and brown. Remove the meat bundles, then add the sausages and cook until brown, then remove. Add about 1 tablespoon of EVOO and reduce the heat to medium, then stir in the fennel seeds and cook for 15 seconds. Add the wine and deglaze the pan, then add the tomatoes, bay leaf, carrots, celery and halved onion. Break up the tomatoes, and add the passata, then stir in the basil and season with salt and pepper. Slide the meat and sausages into the sauce and bring to a bubble, reduce the heat and simmer partially covered for a couple of hours, stirring occasionally.\n",
      "In a skillet, heat about 2 tablespoons EVOO, 2 turns of the pan, then add the sliced onions, cubanelles, red bell peppers and sliced chile pepper, and cook to soften, stirring frequently, 12 to 15 minutes. Add the stock, the remaining 1/4 cup parsley, tomato paste and season with salt and pepper. Simmer 15 minutes more.\n",
      "For a make-ahead meal, cool the sauce and meat and refrigerate. Reheat over a medium-low flame on the stovetop until warmed through. Store the onions and peppers separately and reheat over medium-low heat in small skillet.\n",
      "To serve, bring a large pot of water to a boil, salt the water and cook the spaghetti to al dente.\n",
      "Place the meat and sausages on a serving platter. Remove the onions, carrots, celery and bay leaf.\n",
      "Add about 1 cup of the starchy cooking water to the sauce, then put half of the sauce in a gravy boat. Melt the butter into the remaining sauce and toss with the pasta and cheese. Serve the pasta alongside the meat roll and sausage. Top the pasta and meat with more sauce and cheese, and serve the peppers and onions on top of the sausage. \n",
      "\n",
      "\n",
      "Topic #1 \n",
      "Document #1 \n",
      "Topic Score: 0.9116503250965559\n",
      "\n",
      " Lasagna 4 tablespoons olive oil; 3 pounds pork shanks (on the bone); 3 pounds beef shanks (on the bone); Salt; Freshly ground black pepper; 3/4 pound pancetta, finely diced; 1 1/2 cups finely diced Spanish onion; 1/2 cup finely diced carrot; 1/2 cup finely diced celery; 4 whole garlic cloves; 1 cup dry red wine; 3 cups homemade beef or chicken stock; 1 (15-ounce) can diced tomatoes and their juices; 4 fresh thyme sprigs; 3 sprigs fresh rosemary; 6 sprigs flat-leaf parsley; 1 cup tomato sauce, recipe follows; Chopped fresh parsley leaves; Chopped fresh basil leaves; 3 cups ricotta, strained in a cheesecloth lined strainer for at least 4 hours; 2 large eggs; 1/4 cup chopped fresh flat-leaf parsley; 3 tablespoons chopped fresh basil leaves; 1/2 cup freshly grated Parmigiano-Reggiano; Salt; Freshly ground black pepper; 3 tablespoons olive oil; 1 large Spanish onion, finely diced; 3 cloves garlic, coarsely chopped; 1/2 teaspoon crushed red chili flakes; 2 (28-ounce) cans crushed tomatoes; 1 (15-ounce) can diced tomatoes; Salt and freshly ground black pepper; 3 tablespoons chopped fresh parsley leaves; 3 tablespoons chopped fresh basil leaves; 2 tablespoons unsalted butter; 2 tablespoons all-purpose flour; 2 to 2 1/2 cups whole milk, heated; Pinch freshly grated nutmeg; Salt and freshly ground black pepper; 3/4 cup grated fontina cheese; 1/2 cup freshly grated Parmigiano-Reggiano; 2 tablespoons unsalted butter; Bechamel Sauce; 4 fresh sheets pasta, cooked for 2 to 3 minutes in boiling, salted water, drained or 1 pound lasagna noodles (cooked in boiling, salted water until slightly under al dente, about 5 minutes); Ricotta mixture; Grated Parmigiano-Reggiano; Fresh basil leaves; Bolognese Sauce Watch how to make this recipe.\n",
      "For the Bolognese Sauce:\n",
      "Preheat the oven to 350 degrees F. Heat the oil in a large Dutch oven over high heat.\n",
      "Season the shanks on both sides with salt and pepper, place in the pan and cook until golden brown on both sides, about 4 minutes per side.\n",
      "Remove the shanks to a plate. Remove fat from the pan. Add the pancetta to the pan and cook until golden brown. Remove pancetta with a slotted spoon to a plate lined with paper towels.\n",
      "Add the onion, carrots, celery and garlic to the pan and cook until soft and lightly golden brown, 4 to 5 minutes.\n",
      "Add the red wine, scrape the bottom of the pan and cook until completely reduced. Add the beef stock, diced tomatoes, thyme, rosemary and parsley and bring to a simmer. Add the shanks and 1/3 of the pancetta back to the pan, cover and transfer to the oven. Cook until the meat is tender and falling off the bone, about 2 hours.\n",
      "Remove the shanks to a cutting board and when cool enough to handle, shred the meat into bite-size pieces and place in a bowl.\n",
      "Strain the cooking liquid into a bowl. Place 3 cups of the cooking liquid into a large high-sided saute pan and bring to a boil over high heat. Cook until the liquid is reduced to about 3/4 cup. Add the shredded meat and the remaining cooked pancetta to the pan along with 1 cup of the tomato sauce, parsley and basil and stir to combine and just heat through.\n",
      "For the Ricotta Mixture:\n",
      "Stir together the ricotta, eggs, parsley, basil, cheese and salt and pepper in a bowl. Cover and refrigerate for at least 1 hour to allow flavors to meld.\n",
      "For the Tomato Sauce:\n",
      "Heat the oil in a large saute pan over medium-high heat, add the onions and cook until soft, 3 to 4 minutes. Add the garlic and red chili flakes and cook for 1 minute. Add the tomatoes, bring to boil, season with salt and pepper and cook until the sauce is reduced and thickened, about 25 to 30 minutes. Stir in the parsley and basil.\n",
      "For the Bechamel (Mornay) Sace:\n",
      "Melt the butter in a medium saucepan over medium heat. Whisk in the flour and let cook for about 2 minutes. Slowly whisk in 2 cups of the hot milk and continue whisking until the sauce is thickened and loses its raw flavor, about 5 to 7 minutes. Season the sauce with nutmeg, salt and pepper and whisk in the cheeses. If the sauce is too thick, whisk in some of the remaining milk.\n",
      "For Assembly:\n",
      "Preheat the oven to 375 degrees F.\n",
      "Butter the bottom and sides of a 9 by 13-inch baking dish with the butter. Ladle a thin layer of bechamel evenly over the bottom of the pan. Place a layer of pasta dough, cut to fit the inside of the pan on top of the bechamel and top the pasta with the ricotta mixture and spread evenly. Spread a thin layer of bechamel over the ricotta, sprinkle with a few tablespoons of Parmesan and some basil leaves. Top with another layer of pasta and spread the meat mixture evenly over the top. Ladle an even layer of bechamel over the Bolognese mixture, sprinkle with a few tablespoons of Parmesan and some basil leaves. Place the final layer of pasta dough over the meat mixture and ladle the bechamel over the top to completely cover the pasta and sprinkle with 3 tablespoons of Parmesan.\n",
      "Place the pan on a baking sheet and cover loosely with aluminum foil. Bake for 20 minutes. Reduce the heat to 350 degrees F, remove the foil and continue baking until the top is golden brown and the filling is bubbling, about 25 to 35 minutes longer. Remove from the oven and let rest 10 minutes before cutting. Cut into slices and top with some of the tomato sauce, more grated cheese and chopped parsley and basil. \n",
      "\n",
      "\n",
      "Topic #1 \n",
      "Document #2 \n",
      "Topic Score: 0.9103070069414916\n",
      "\n",
      " Sunday Gravy 2 1/2 to 3 pounds spareribs, separated into ribs, or short ribs; 1/3 cup olive oil, plus extra for tossing; 2 onions, minced; 12 clove garlic, smashed; 1 recipe Braciole, recipe follows; 1 pound Italian sausage (optional); 4 (28-ounce cans) peeled plum tomatoes, including the liquid; 1/4 cup minced fresh oregano leaves; or 2 teaspoons dried, crumbled; 1/4 cup minced fresh parsley leaves; or 3 teaspoons dried, crumbled; 2 bay leaves; 2 teaspoons salt; 1 teaspoon freshly ground black pepper; 1 recipe Meatballs, recipe follows; 1 pound pasta, such as spaghetti, penne, or rigatoni, per 2 cups of sauce; 1 1/2 pounds flank steak, cut and pounded into thin slices about 4 inches wide by 6 inches long; Salt and freshly ground pepper; 1/2 cup freshly grated Parmesan cheese, plus extra for serving; 4 cloves garlic, minced; Parsley; 1 cup cubed stale bread (Italian bread); Milk for soaking the bread; 1 pound lean ground beef, such as sirloin; 3 cloves garlic, minced; 1/2 cup minced fresh parsley leaves; 1/2 cup freshly grated Romano cheese; 2 large eggs; Salt and freshly ground pepper; 3 tablespoons olive oil In a casserole or stockpot, combine the ribs with enough cold water to cover by 2 inches. Bring to a boil and simmer for 20 minutes. Drain. In a 10-quart casserole set over moderate heat, warm the oil and cook the onions and garlic, stirring frequently, for 5 minutes. Add the ribs, braciole, and sausage and cook until they're browned, 6 to 8 minutes. Add the tomatoes, herbs, and salt and pepper. Bring the mixture to a boil. Reduce the heat to low and simmer, stirring occasionally, for 1 hour. Add the meatballs and cook for 1 to 1 1/2 hours more. The longer the cooking time, the more concentrated the gravy will be. When the gravy is almost done, cook the pasta according to the package directions, until al dente. Drain. Remove all of the meat from the sauce and put on a platter. Pour some of the sauce into a gravy boat to serve on the side. Add the pasta to the remaining sauce and toss with a little oil.\n",
      "Braciole (Stuffed Meat Rolls): Season the meat on both sides with salt and pepper to taste. In a bowl, combine the 1/2 cup Parmesan, garlic, and parsley. Divide the mixture among the meat slices, spreading it into an even layer, and roll up each slice to enclose the filling. Secure each roll with string or toothpicks.\n",
      "Meatballs: In a small bowl, combine the bread with enough milk to just cover and let the bread soak for 10 minutes. Squeeze dry and chop fine. In a bowl, combine the bread with the meat, garlic, parsley, Romano cheese, eggs, and salt and pepper to taste. Form into 12 to 14 meatballs, about 2 1/2 inches in diameter, and chill until ready to cook. In a large saucepan or casserole set over moderate, heat the oil until hot. Add the meatballs and cook them until they're browned on all sides, 5 to 7 minutes. \n",
      "\n",
      "\n",
      "Topic #2 \n",
      "Document #0 \n",
      "Topic Score: 0.42936837715552273\n",
      "\n",
      " Chianti-Poached Pears 4 underripe pears, peeled; 1 medium orange, sliced; 2 tablespoons mulling spices, Morton & Bassett®; 1 bottle (750-milliliter) Chianti, Stella di Notte®; 1 Cup packed brown sugar, Domino®/C&H®; Orange juice or water (optional) 1. Cut each pear in half and use a melon baller to remove core. Place pear halves in a 4- to 5-quart slow cooker. Add orange slices and mulling spices. In a bowl, stir together Chianti and brown sugar; pour over pears. Add orange juice or water (optional)\n",
      "2. Cover slow cooker and cook on low heat setting for 6-8 hours or until pears can be easily pierced with a fork.\n",
      "Excerpted from the book, Sandra Lee Semi-Homemade Cocktail Time, by Sandra Lee\n",
      "Copyright© 2009 SLSH Enterprises, Inc. \n",
      "\n",
      "\n",
      "Topic #2 \n",
      "Document #1 \n",
      "Topic Score: 0.39968520168987415\n",
      "\n",
      " Balsamic Roasted Tomatoes 4 medium roma tomatoes, halved crosswire; 2 tablespoons light balsamic vinaigrette, Newman's Own®; 1 tablespoon grated Parmesan cheese, DiGiorno®; 1 tablespoon chopped fresh basil Preheat oven to 400 degrees F. Line a rimmed baking pan with aluminum foil. Place tomato halves, cut sides up, on baking sheet. Sprinkle with balsamic vinaigrette, Parmesan and basil.\n",
      "Excerpted from the book, Sandra Lee Semi-Homemade Cocktail Time, by Sandra Lee Copyright ©2009 SLSH Enterprises, Inc. \n",
      "\n",
      "\n",
      "Topic #2 \n",
      "Document #2 \n",
      "Topic Score: 0.3884524617340374\n",
      "\n",
      " Buchanan's Negra 1.5 oz. Buchanan's; 1 oz. cola Add Buchanan's and cola Serve over ice. \n",
      "\n",
      "\n"
     ]
    }
   ],
   "source": [
    "docs_by_tops(text_lda,(0,3),(0,3))"
   ]
  },
  {
   "cell_type": "code",
   "execution_count": 403,
   "metadata": {},
   "outputs": [
    {
     "name": "stdout",
     "output_type": "stream",
     "text": [
      "Topic #0 \n",
      "Document #0 \n",
      "Topic Score: 0.03278719453831286\n",
      "\n",
      " Black Olive Spread 1 (10 ounce) can black olives; 3 tablespoons freshly grated Parmesan cheese; 1 clove garlic, chopped; 1 tablespoon extra virgin olive oil Place olives, Parmesan cheese, and garlic (if using) in a food processor. Add olive oil slowly while running. Process until smooth.\n",
      " \n",
      "\n",
      "\n",
      "Topic #0 \n",
      "Document #1 \n",
      "Topic Score: 0.03139224917980079\n",
      "\n",
      " Pesto 3/4 cup fresh basil leaves; 1/2 cup grated Parmesan; 3 tablespoons pine nuts; 2 cloves garlic, peeled; Salt and freshly ground black pepper; 1/3 cup extra-virgin olive oil Watch how to make this recipe.\n",
      "Add the basil leaves, Parmesan, pine nuts, garlic and salt and pepper to taste to a food processor or blender. Turn the machine on, then drizzle in the olive oil while it mixes. Continue blending until combined, adding additional olive oil if needed. \n",
      "\n",
      "\n",
      "Topic #0 \n",
      "Document #2 \n",
      "Topic Score: 0.03064833480260115\n",
      "\n",
      " Kalamata Olive Tapenade 3 cloves garlic, peeled; 1 cup pitted kalamata olives; 2 tablespoons capers; 3 tablespoons chopped fresh parsley; 2 tablespoons lemon juice; 2 tablespoons olive oil; salt and pepper to taste Place the garlic cloves into a blender or food processor; pulse to mince. Add the olives, capers, parsley, lemon juice, and olive oil Blend until everything is finely chopped. Season to taste with salt and pepper.\n",
      " \n",
      "\n",
      "\n",
      "Topic #1 \n",
      "Document #0 \n",
      "Topic Score: 0.08687320637673075\n",
      "\n",
      " Blueberry Buttermilk Coffeecake 1/2 cup butter; 1 1/3 cups white sugar; 2 eggs; 1 teaspoon vanilla extract; 2 cups buttermilk; 4 cups all-purpose flour; 3 teaspoons baking powder; 1 teaspoon baking soda; 1 teaspoon salt; 2 cups blueberries; 2/3 cup all-purpose flour; 2/3 cup white sugar; 6 tablespoons butter, softened Preheat oven to 350 degrees F (175 degrees C). Grease and flour a 9x13 inch pan. Sift together 4 cups flour, baking powder, baking soda and salt. Set aside.\n",
      "In a large bowl, cream together 1/2 cup butter and 1 1/3 cup sugar until light and fluffy. Beat in the eggs one at a time, then stir in the vanilla. Beat in the flour mixture alternately with the buttermilk, mixing just until incorporated. Sir in blueberries. Pour batter into prepared pan. In a small bowl, combine 2/3 cup flour and 2/3 cup sugar. cut in 6 tablespoons butter until mixture resembles coarse crumbs. Sprinkle over top of batter.\n",
      "Bake in the preheated oven for 45 to 60 minutes, or until a toothpick inserted into the center of the cake comes out clean. Allow to cool.\n",
      " \n",
      "\n",
      "\n",
      "Topic #1 \n",
      "Document #1 \n",
      "Topic Score: 0.08482580946087091\n",
      "\n",
      " Jewish Coffee Cake I 2 1/2 cups all-purpose flour; 1 1/4 teaspoons baking powder; 1 1/4 teaspoons baking soda; 3/4 cup butter, softened; 1 1/4 cups white sugar; 3 eggs; 1 teaspoon vanilla extract; 1 1/4 cups sour cream; 1/4 cup butter, softened; 1/2 cup all-purpose flour; 1/4 cup white sugar; 1 teaspoon ground cinnamon Preheat an oven to 350 degrees F (175 degrees C). Grease and flour a 9x13-inch baking dish. Combine 2 1/2 cups of flour, baking powder, and baking soda in a bowl.\n",
      "Beat the 3/4 cup of butter and 1 1/4 cups of sugar with an electric mixer in a large bowl until light and fluffy. The mixture should be noticeably lighter in color. Add the room-temperature eggs one at a time, allowing each egg to blend into the butter mixture before adding the next. Beat in the vanilla with the last egg. Pour in the flour mixture alternately with the sour cream, mixing until just incorporated. Batter will be thick. Pour the batter into prepared pan.\n",
      "Mix 1/4 cup of butter, 1/2 cup of flour, 1/4 cup of sugar, and cinnamon in a small bowl until it resembles a coarse crumble. Sprinkle over the cake batter.\n",
      "Bake in the preheated oven until a toothpick inserted into the center comes out clean, 30 to 35 minutes. Cool in the pans for 10 minutes before removing to cool completely on a wire rack.\n",
      " \n",
      "\n",
      "\n",
      "Topic #1 \n",
      "Document #2 \n",
      "Topic Score: 0.083020885180975\n",
      "\n",
      " Zucchini Bread IV 3 eggs; 1 cup vegetable oil; 2 cups white sugar; 2 cups grated zucchini; 2 teaspoons vanilla extract; 3 cups all-purpose flour; 3 teaspoons ground cinnamon; 1 teaspoon baking soda; 1/4 teaspoon baking powder; 1 teaspoon salt; 1/2 cup chopped walnuts Preheat oven to 325 degrees F ( 165 degrees C). Grease and flour two 8x4 inch loaf pans.\n",
      "In a large bowl, beat eggs until light and frothy. Mix in oil and sugar. Stir in zucchini and vanilla. Combine flour, cinnamon, soda, baking powder, salt and nuts; stir into the egg mixture. Divide batter into prepared pans.\n",
      "Bake for 60 to 70 minutes, or until done.\n",
      " \n",
      "\n",
      "\n",
      "Topic #2 \n",
      "Document #0 \n",
      "Topic Score: 0.07427739615481092\n",
      "\n",
      " Chicken Taco Filling 1 (1.25 ounce) package dry taco seasoning mix; 1 cup chicken broth; 1 pound skinless, boneless chicken breasts Mix chicken broth and taco seasoning in a bowl.\n",
      "Place chicken breasts in a slow cooker and pour chicken broth mixture over chicken.\n",
      "Cover and cook on Low for 6 to 8 hours.\n",
      "Shred chicken to serve.\n",
      " \n",
      "\n",
      "\n",
      "Topic #2 \n",
      "Document #1 \n",
      "Topic Score: 0.07352719999045279\n",
      "\n",
      " Chicken Voila 4 skinless, boneless chicken breast halves - cut into bite-size pieces; salt and pepper to taste; 2 cloves garlic, minced; 1/2 cup all-purpose flour; 1 tablespoon vegetable oil; 1 tablespoon butter; 1 (14.5 ounce) can chicken broth Place chicken in a bowl, and season with salt, pepper and garlic. Sprinkle the flour over the chicken pieces and toss to coat.\n",
      "Heat the oil and butter in a large skillet over medium heat. Shake the excess flour off of the chicken, and reserve in the bowl. Place the chicken in the hot pan, and brown on all sides. Remove from the pan, and keep warm.\n",
      "Whisk some of the chicken broth into the flour in the bowl until smooth. Stir this into the drippings in the skillet, then stir in the remaining broth. Bring to a boil, then reduce the heat to low, and return the chicken pieces to the skillet. Simmer over medium heat until the chicken is cooked through, and the sauce has thickened. Taste, and season with additional salt and pepper if desired.\n",
      " \n",
      "\n",
      "\n",
      "Topic #2 \n",
      "Document #2 \n",
      "Topic Score: 0.07340710127941778\n",
      "\n",
      " Chicken Piccata 4 (6-ounce) chicken breasts; 2 cups all-purpose flour, seasoned with salt and pepper; 1/4 cup olive oil; 1/4 cup lemon juice; 2 cups chicken stock; 1 tablespoon capers; 1/3 cup unsalted sweet cream butter Dust the chicken breasts with the seasoned flour; shake of any excess. Heat the olive oil in a heavy sided medium saute pan over medium heat and then add the chicken breasts. Saute until golden brown on both sides. Once the chicken breasts are browned, drain the oil and add the lemon juice, chicken stock, and capers to the pan with the chicken. Reduce for about 5 minutes, turning the chicken breasts halfway through. The chicken is done when it is firm to the touch. Turn off the heat and add the butter, stirring until melted. Put 1 chicken breast on each of 4 plates and drizzle with remainder of the sauce. \n",
      "\n",
      "\n"
     ]
    }
   ],
   "source": [
    "docs_by_tops(text_nmf,(0,3),(0,3))"
   ]
  },
  {
   "cell_type": "code",
   "execution_count": 423,
   "metadata": {},
   "outputs": [
    {
     "name": "stdout",
     "output_type": "stream",
     "text": [
      "Topic #1 \n",
      "Document #90000 \n",
      "Topic Score: 0.0\n",
      "\n",
      " Grilled Hoisin Marinated Pork with Pineapple-Grilled Green Onion Relish 1/4 cup hoisin sauce; 2 tablespoons rice wine vinegar; 2 tablespoons soy sauce; 3 cloves garlic, coarsely chopped; 1 teaspoon sesame oil; 1 (2 pound) boneless pork tenderloin; Salt and freshly frond pepper Combine hoisin, vinegar, soy, garlic and sesame oil in a small bowl. Place the tenderloin in a medium shallow baking dish, pour over the marinade and marinate in the refrigerator 3 to 4 hours or overnight, turning once. Preheat the grill. Remove the pork from the marinade, removing any excess. Season with salt and pepper and grill 10 to 12 minutes for medium doneness. \n",
      "\n",
      "\n"
     ]
    }
   ],
   "source": [
    "docs_by_tops(text_nmf,(1,2),(90000,90001))"
   ]
  },
  {
   "cell_type": "markdown",
   "metadata": {},
   "source": [
    "### Exploring Topics by words"
   ]
  },
  {
   "cell_type": "code",
   "execution_count": 302,
   "metadata": {},
   "outputs": [
    {
     "data": {
      "text/plain": [
       "(122911, 50)"
      ]
     },
     "execution_count": 302,
     "metadata": {},
     "output_type": "execute_result"
    }
   ],
   "source": [
    "text_nmf.shape"
   ]
  },
  {
   "cell_type": "code",
   "execution_count": 304,
   "metadata": {},
   "outputs": [
    {
     "data": {
      "text/plain": [
       "(49785, 122911)"
      ]
     },
     "execution_count": 304,
     "metadata": {},
     "output_type": "execute_result"
    }
   ],
   "source": [
    "text_tfidf.T.shape"
   ]
  },
  {
   "cell_type": "code",
   "execution_count": 321,
   "metadata": {},
   "outputs": [],
   "source": [
    "# Function for best topic words using cosine similarity\n",
    "# Variable Dependency:\n",
    "word_series = pd.Series(tfidf_words)\n",
    "\n",
    "def words_by_tops(tfidf_mat, top_mat, topic_range=(0,0), n_words=10):\n",
    "    topic_word_scores = tfidf_mat.T * top_mat\n",
    "    for i in range(topic_range[0],topic_range[1]):\n",
    "        word_scores = pd.Series(topic_word_scores[:,i])\n",
    "        word_index = word_scores.sort_values(ascending = False)[:n_words].index\n",
    "        print('\\nTopic #{}'.format(i))\n",
    "        for index in word_index:\n",
    "            print(word_series[index],'\\t\\t', word_scores[index])"
   ]
  },
  {
   "cell_type": "code",
   "execution_count": 322,
   "metadata": {},
   "outputs": [
    {
     "name": "stdout",
     "output_type": "stream",
     "text": [
      "\n",
      "Topic #0\n",
      "oil \t\t 640.6245959649507\n",
      "pepper \t\t 608.3249187745771\n",
      "olive \t\t 596.4472242637255\n",
      "salt \t\t 490.84989453469524\n",
      "salad \t\t 455.8647473432865\n",
      "cup \t\t 453.8848397846019\n",
      "vinegar \t\t 433.1487240324012\n",
      "tablespoon \t\t 404.63005650285976\n",
      "lemon \t\t 358.3382905960618\n",
      "tomato \t\t 347.0923702100207\n",
      "\n",
      "Topic #1\n",
      "pasta \t\t 778.6849751405178\n",
      "add \t\t 535.0915861916765\n",
      "pepper \t\t 492.7384925672631\n",
      "cook \t\t 492.13785743221797\n",
      "heat \t\t 483.2914698817875\n",
      "cup \t\t 449.0481461754793\n",
      "minute \t\t 431.5918368991962\n",
      "oil \t\t 428.3394865493703\n",
      "salt \t\t 412.09639996091306\n",
      "garlic \t\t 398.4843344902204\n",
      "\n",
      "Topic #2\n",
      "cup \t\t 28.397756921546033\n",
      "tablespoon \t\t 17.33665296790679\n",
      "pepper \t\t 16.873417760793053\n",
      "teaspoon \t\t 16.86288849893871\n",
      "sugar \t\t 16.855922995406004\n",
      "minute \t\t 16.812838373662142\n",
      "salt \t\t 16.366286592989763\n",
      "add \t\t 15.637303337055798\n",
      "heat \t\t 15.55286683781459\n",
      "oil \t\t 15.313294573959706\n"
     ]
    }
   ],
   "source": [
    "# Keywords using LDA\n",
    "words_by_tops(text_tfidf, text_lda, (0,3), 10)"
   ]
  },
  {
   "cell_type": "code",
   "execution_count": 979,
   "metadata": {},
   "outputs": [
    {
     "name": "stdout",
     "output_type": "stream",
     "text": [
      "\n",
      "Topic #0\n",
      "oil \t\t 30.487976091510095\n",
      "pepper \t\t 26.58731618077754\n",
      "olive \t\t 25.976101984993985\n",
      "garlic \t\t 21.15573358068711\n",
      "salt \t\t 21.10278593840343\n",
      "cup \t\t 19.11639414822675\n",
      "tablespoon \t\t 18.92932664277406\n",
      "add \t\t 16.703038528017764\n",
      "heat \t\t 15.88131127232731\n",
      "minute \t\t 15.717544839122644\n",
      "\n",
      "Topic #1\n",
      "cup \t\t 88.93948043725453\n",
      "flour \t\t 78.21292584063856\n",
      "sugar \t\t 74.87204294639442\n",
      "egg \t\t 66.99731008186033\n",
      "bake \t\t 62.46502324068086\n",
      "teaspoon \t\t 56.665559229804835\n",
      "butter \t\t 49.447980633147104\n",
      "vanilla \t\t 44.3008418169541\n",
      "degree \t\t 43.13128610977268\n",
      "beat \t\t 38.99741959037972\n",
      "\n",
      "Topic #2\n",
      "chicken \t\t 121.53477084762409\n",
      "breast \t\t 27.253496597768706\n",
      "pepper \t\t 26.72384454656387\n",
      "cup \t\t 25.717193394673707\n",
      "heat \t\t 23.10877377789526\n",
      "minute \t\t 22.93622161508001\n",
      "cook \t\t 22.305917187923416\n",
      "oil \t\t 21.817830898443503\n",
      "tablespoon \t\t 20.985453149156356\n",
      "sauce \t\t 19.748562716955515\n"
     ]
    }
   ],
   "source": [
    "# Words using NMF\n",
    "words_by_tops(text_tfidf, text_nmf, (0,3), 10)"
   ]
  },
  {
   "cell_type": "markdown",
   "metadata": {},
   "source": [
    "Ultimately, in looking at the first three topic documents for LDA and NNMF, it appears that NNMF made more distinct topic models: 0. Spreads, 1. Cakes 2. Chicken.\n",
    "\n",
    "LDA on the other made two good topics 0. Salads and 1. Gravies. The third topic, I am unable to tell what it's clustering on. Therefore, we will proceed with NNMF topics to generate"
   ]
  },
  {
   "cell_type": "markdown",
   "metadata": {},
   "source": [
    "### Keyword Extraction of Topics Using TextRank"
   ]
  },
  {
   "cell_type": "markdown",
   "metadata": {},
   "source": [
    "The purpose of using TextRank to extract keywords \n",
    "\n",
    "------------\n",
    "\n",
    "Consider using a smaller corpora size, so as to more quickly code. Then run the entire copora.\n",
    "Using the time module to test out corpora sizes.\n",
    "\n",
    "Using TextRank to summarize the topics by extracting words involves many variables:\n",
    "- Deciding how many of the top documents each the topic should be summarized?\n",
    "    - Arbitrarily: top 100, evaluate, then only decrease from there.\n",
    "- Should TextRank then be performed once over the selected topic corpora, or should it be run individually and then scores added to make an aggregated rank?\n",
    "    - For the sake of simplicity it should probably only be run over the entire corpora\n",
    "- How many top ranked words should be used?\n",
    "    - Check out the top ranks words first, then decide.\n",
    "    - Arbitrarily choosing the top 20 ranked\n",
    "- Then once keywords are decided, to how many documents should those words be assigned the extract?\n",
    "    - I think it depends on the number of documents used to find the categorical keywords.\n",
    "- Once we're satisfied with a TextRank strategy, we need to this about which method to use to extract topics (NNMF, LDA) as well as whether we'll NNMF, LDA, or TextRank to extract keywords."
   ]
  },
  {
   "cell_type": "code",
   "execution_count": 584,
   "metadata": {},
   "outputs": [],
   "source": [
    "# Pulling the top one-hundred documents ranked in similarity among Topic #1\n",
    "text_index = pd.Series(text_nmf[:,1]).sort_values(ascending = False)[:100].index\n",
    "text_4summary = pd.Series(cleaned_text)[text_index]\n",
    "\n",
    "# Manually Creating a list of recipe stop\n",
    "recipe_stopwords = ['cup','cups','ingredient','ingredients','teaspoon','tablespoon','oven']\n"
   ]
  },
  {
   "cell_type": "markdown",
   "metadata": {},
   "source": [
    "Because recipes are a very niche subject matter within NLP, it's likely that there are no list of stopwords related to this domain. The above 'recipe_stopwords' will thus be manually updated as necessary."
   ]
  },
  {
   "cell_type": "code",
   "execution_count": 585,
   "metadata": {},
   "outputs": [
    {
     "name": "stdout",
     "output_type": "stream",
     "text": [
      "Execution Time: {} seconds 1.5144927501678467\n"
     ]
    }
   ],
   "source": [
    "# generating topic filter\n",
    "import time\n",
    "start_time = time.time()\n",
    "\n",
    "parsed_texts = nlp(' '.join(text_4summary)) \n",
    "kw_filts = set([str(word) for word in parsed_texts \n",
    "                if (word.pos_== ('NOUN' or 'ADJ' or 'VERB'))\n",
    "                and str(word) not in recipe_stopwords])\n",
    "\n",
    "print('Execution Time: {} seconds', time.time() - start_time)\n"
   ]
  },
  {
   "cell_type": "code",
   "execution_count": 586,
   "metadata": {},
   "outputs": [],
   "source": [
    "# Creating adjecency Table for recipes.\n",
    "adjacency = pd.DataFrame(columns=kw_filts, index=kw_filts, data = 0)\n",
    "for i, word in enumerate(parsed_texts):\n",
    "    if any ([str(word) == item for item in kw_filts]):\n",
    "        end = min(len(parsed_texts), i+5) # Window of four words\n",
    "        nextwords = parsed_texts[i+1:end]\n",
    "        inset = [str(x) in kw_filts for x in nextwords]\n",
    "        neighbors = [str(nextwords[i]) for i in range(len(nextwords)) if inset[i]]\n",
    "        if neighbors:\n",
    "            adjacency.loc[str(word), neighbors] += 1"
   ]
  },
  {
   "cell_type": "markdown",
   "metadata": {},
   "source": [
    "For the sake of implementing a simple TextRank precedure, all of the recipes were concatenated into one continuous corpora. The issue with this is that in tabulating the word adjacencies there is no delineation between one recipe and the next. So the neighbors at the tail ends of any one recipe are considered neighbors to the words at the front end of the next corresponding recipe. However, while this does generate false word adjacencies, the recipes are ordered by topic rank so that that adjacent recipes are in content. In theory, this dampens the effect, if any, that the false word adjacencies might create."
   ]
  },
  {
   "cell_type": "code",
   "execution_count": 574,
   "metadata": {},
   "outputs": [
    {
     "data": {
      "text/plain": [
       "247"
      ]
     },
     "execution_count": 574,
     "metadata": {},
     "output_type": "execute_result"
    }
   ],
   "source": []
  },
  {
   "cell_type": "code",
   "execution_count": 587,
   "metadata": {},
   "outputs": [],
   "source": [
    "import networkx as nx\n",
    "\n",
    "# Running TextRank\n",
    "nx_words = nx.from_numpy_matrix(adjacency.values)\n",
    "ranks=nx.pagerank(nx_words, alpha=.85, tol=.00000001)\n",
    "\n",
    "# Identifying the most highly ranked keywords\n",
    "ranked = sorted(((ranks[i],s) for i,s in enumerate(kw_filts)),\n",
    "                reverse=True)"
   ]
  },
  {
   "cell_type": "code",
   "execution_count": 591,
   "metadata": {},
   "outputs": [
    {
     "data": {
      "text/plain": [
       "[(0.04375214185749701, 'baking'),\n",
       " (0.04062164866585882, 'flour'),\n",
       " (0.034765682332723105, 'degrees'),\n",
       " (0.03310625480601449, 'sugar'),\n",
       " (0.026319873865575237, 'salt'),\n",
       " (0.025259351906364934, 'powder'),\n",
       " (0.024942804418220832, 'C'),\n",
       " (0.02491387919033362, 'vanilla'),\n",
       " (0.022548613569828516, 'soda'),\n",
       " (0.021656675119152743, 'mixture'),\n",
       " (0.02009304199254083, 'bowl'),\n",
       " (0.019563092603302832, 'eggs'),\n",
       " (0.01947066454528181, 'Grease'),\n",
       " (0.017033128335097448, 'batter'),\n",
       " (0.016192349971297367, 'cinnamon'),\n",
       " (0.015994041246240872, 'pan'),\n",
       " (0.01598697844748971, 'F'),\n",
       " (0.015937798910130623, 'teaspoons'),\n",
       " (0.015466745614804127, 'egg'),\n",
       " (0.014890797265750865, 'extract'),\n",
       " (0.014635208820621701, 'butter'),\n",
       " (0.012583338619568181, 'oil'),\n",
       " (0.012564662523702128, 'ground'),\n",
       " (0.011802096339683934, 'minutes'),\n",
       " (0.011555344795180309, 'muffin')]"
      ]
     },
     "execution_count": 591,
     "metadata": {},
     "output_type": "execute_result"
    }
   ],
   "source": [
    "ranked[:25]"
   ]
  },
  {
   "cell_type": "code",
   "execution_count": 576,
   "metadata": {},
   "outputs": [
    {
     "data": {
      "text/plain": [
       "(247, 247)"
      ]
     },
     "execution_count": 576,
     "metadata": {},
     "output_type": "execute_result"
    }
   ],
   "source": [
    "adjacency.shape"
   ]
  },
  {
   "cell_type": "code",
   "execution_count": 578,
   "metadata": {},
   "outputs": [
    {
     "data": {
      "text/plain": [
       "<247x247 sparse matrix of type '<class 'numpy.int64'>'\n",
       "\twith 2497 stored elements in Compressed Sparse Row format>"
      ]
     },
     "execution_count": 578,
     "metadata": {},
     "output_type": "execute_result"
    }
   ],
   "source": [
    "# checking to see there are actual values loaded in the adjacency df\n",
    "import scipy\n",
    "scipy.sparse.csr_matrix(adjacency.copy().values)"
   ]
  },
  {
   "cell_type": "markdown",
   "metadata": {},
   "source": [
    "Looking just at the top ranked keywords for the Topic \\#1 documents, one would guess that the topic that was clustered is baked cakes. The top ranked word is 'baking' which is spot on! Unfortunately, because we used tf-idf, there is no way of calculating from these keywords a sort of categorical vector mapping such as 'baking'. If we were to use some sort of word embeddings such as Word2Vec or GloVe then we might be able to calculate abstract summaries of these words.\n",
    "\n",
    "However, these keyword extractions are still useful insofar that the queries will match indidrectly to the the umbrella topic of 'baking' if those queries still match with the words extracted from the baking topic.\n",
    "\n",
    "For now, we will arbitratily choose between text rank and nnmf word topic ranks to generate keywords. TextRank is a clear winner over mere text cosine similarity ranks in the case of this topic, so we will proceed with using TextRank as the categories. "
   ]
  },
  {
   "cell_type": "code",
   "execution_count": 579,
   "metadata": {},
   "outputs": [
    {
     "data": {
      "text/plain": [
       "247"
      ]
     },
     "execution_count": 579,
     "metadata": {},
     "output_type": "execute_result"
    }
   ],
   "source": [
    "len(kw_filts)"
   ]
  },
  {
   "cell_type": "code",
   "execution_count": 581,
   "metadata": {},
   "outputs": [
    {
     "data": {
      "text/plain": [
       "247"
      ]
     },
     "execution_count": 581,
     "metadata": {},
     "output_type": "execute_result"
    }
   ],
   "source": [
    "pd.Series(list(kw_filts)).nunique()"
   ]
  },
  {
   "cell_type": "code",
   "execution_count": 397,
   "metadata": {},
   "outputs": [
    {
     "data": {
      "text/plain": [
       "'Blueberry Buttermilk Coffeecake cup butter cups white sugar eggs teaspoon vanilla extract cups buttermilk cups allpurpose flour teaspoons baking powder teaspoon baking soda teaspoon salt cups blueberries cup allpurpose flour cup white sugar tablespoons butter softened Preheat oven to degrees F degrees C Grease and flour a x inch pan Sift together cups flour baking powder baking soda and salt Set aside In a large bowl cream together cup butter and cup sugar until light and fluffy Beat in the eggs one at a time then stir in the vanilla Beat in the flour mixture alternately with the buttermilk mixing just until incorporated Sir in blueberries Pour batter into prepared pan In a small bowl combine cup flour and cup sugar cut in tablespoons butter until mixture resembles coarse crumbs Sprinkle over top of batter Bake in the preheated oven for to minutes or until a toothpick inserted into the center of the cake comes out clean Allow to cool'"
      ]
     },
     "execution_count": 397,
     "metadata": {},
     "output_type": "execute_result"
    }
   ],
   "source": [
    "text_4summary[3060]"
   ]
  },
  {
   "cell_type": "markdown",
   "metadata": {},
   "source": [
    "Exploration of TextRank Takeaways: \n",
    "- All of the filter keyword are pretty similar because they were all extracted from the top 100 recipes within their topic.\n",
    "- Recipes NLP stopwords need to be compiled\n",
    "- The keywords that TextRank extracts relate really well to the underlying extracted topic, however, there's no way of abstractively generating semantically similar words that collectively captures the essence of the topic\n",
    "- False adjacencies are created but the produced keywords do not look dissimilar from the topic modelled words using NNMF.\n",
    "- One downside of using TextRank is that upon inspection of the ranked words and the filter words, it appears multiple copies of the same words are not getting identified as unique, such that, for example, there will be multiple copies of 'toothpick' or 'cups' with different individual rankings.\n",
    "\n"
   ]
  },
  {
   "cell_type": "markdown",
   "metadata": {},
   "source": [
    "### Analyzing Score distribution of document and word ranks within Topics\n",
    "The purpose is to visualize the distribution of document topic rankings and decide the cutoff for the documents that associate most with that topic."
   ]
  },
  {
   "cell_type": "code",
   "execution_count": 429,
   "metadata": {},
   "outputs": [],
   "source": [
    "import matplotlib.pyplot as plt\n",
    "# text_lda\n",
    "# text_nmf\n",
    "# ranked"
   ]
  },
  {
   "cell_type": "code",
   "execution_count": 456,
   "metadata": {},
   "outputs": [
    {
     "data": {
      "image/png": "[encoded data removed]",
      "text/plain": [
       "<Figure size 1080x288 with 3 Axes>"
      ]
     },
     "metadata": {
      "needs_background": "light"
     },
     "output_type": "display_data"
    }
   ],
   "source": [
    "# LDA Topic documents for topics 0-2\n",
    "plt.figure(figsize=(15,4))\n",
    "for i in range(3):\n",
    "    series = pd.Series(text_lda[:,i])\n",
    "    plt.subplot(1,3,i+1)\n",
    "    plt.hist(series[series > 0.05])\n",
    "    plt.title('LDA Topic #{} Doc Score Dist (>0.05)'.format(i+1))\n",
    "plt.show()"
   ]
  },
  {
   "cell_type": "code",
   "execution_count": 1034,
   "metadata": {},
   "outputs": [
    {
     "data": {
      "image/png": "[encoded data removed]",
      "text/plain": [
       "<Figure size 1080x288 with 3 Axes>"
      ]
     },
     "metadata": {
      "needs_background": "light"
     },
     "output_type": "display_data"
    }
   ],
   "source": [
    "# NNMF Topic documents for topics 0-2\n",
    "plt.figure(figsize=(15,4))\n",
    "for i in range(3):\n",
    "    series = pd.Series(text_nmf[:,i])\n",
    "    plt.subplot(1,3,i+1)\n",
    "    plt.hist(series[series > 0.004])\n",
    "    plt.title('NNMF Topic #{} Document Score Dist (>0.004)'.format(i+1))\n",
    "    plt.xlabel('Document Topic Score')\n",
    "#plt.savefig('DocsByTop_Score_Distributions.png', transparent = True)\n",
    "plt.show()"
   ]
  },
  {
   "cell_type": "markdown",
   "metadata": {},
   "source": [
    "Based on the first three topics for LDA and NNMF, I will subjectly choose the top 1500-2000 documents. This number of documents seems to be where the loadings for each score distibution either level off or spike upward (an elbow so to speak).\n",
    "\n",
    "Confirming with Topic \\#1 of the NNMF topics, the baking topic, baking recipes extended as far as 10,000 of the top ranked recipes within that category."
   ]
  },
  {
   "cell_type": "code",
   "execution_count": 462,
   "metadata": {},
   "outputs": [
    {
     "data": {
      "image/png": "[encoded data removed]",
      "text/plain": [
       "<Figure size 1080x288 with 3 Axes>"
      ]
     },
     "metadata": {
      "needs_background": "light"
     },
     "output_type": "display_data"
    }
   ],
   "source": [
    "# LDA Topic document scores for topics 0-2\n",
    "plt.figure(figsize=(15,4))\n",
    "for i in range(3):\n",
    "    series = pd.Series(text_lda[:,i]).copy().sort_values(ascending = False).reset_index(drop = True)\n",
    "    plt.subplot(1,3,i+1)\n",
    "    plt.plot(series[:1000])\n",
    "    plt.title('LDA Topic #{} Ordered Score Plot'.format(i+1))\n",
    "plt.show()"
   ]
  },
  {
   "cell_type": "code",
   "execution_count": 1035,
   "metadata": {},
   "outputs": [
    {
     "data": {
      "image/png": "[encoded data removed]",
      "text/plain": [
       "<Figure size 1080x288 with 3 Axes>"
      ]
     },
     "metadata": {
      "needs_background": "light"
     },
     "output_type": "display_data"
    }
   ],
   "source": [
    "# NMF Topic document scores for topics 0-2\n",
    "plt.figure(figsize=(15,4))\n",
    "for i in range(3):\n",
    "    series = pd.Series(text_nmf[:,i]).copy().sort_values(ascending = False).reset_index(drop = True)\n",
    "    plt.subplot(1,3,i+1)\n",
    "    plt.plot(series[:1000])\n",
    "    plt.title('NMF Topic #{} Ordered Score Plot'.format(i+1))\n",
    "    plt.xlabel('Document Rank')\n",
    "    plt.ylabel('Document Topic Score')\n",
    "#plt.savefig('DocsByTop_Score_Elbows.png', transparent = True)\n",
    "plt.show()"
   ]
  },
  {
   "cell_type": "markdown",
   "metadata": {},
   "source": [
    "While this method has not been previously utilized, the plots above take  after scree plots, and they plot the scores of documents as they relate to their respective topics in descending order. By plotting these elbow plots, it might shed light on the best number of documents to use to rank words.\n",
    "\n",
    "We will be using NNMF for the model because the topics seemed to have converged more distinctly on topic. According to the 'Scree Plots' corresponding to the NNMF topics, it seems that the scores begin leveling out around 200 documents. Therefore we will use TextRank on the top 200 documents for each topic."
   ]
  },
  {
   "cell_type": "markdown",
   "metadata": {},
   "source": [
    "***One Note: Go deeper into depth why you chose NNMF over LDA.***"
   ]
  },
  {
   "cell_type": "markdown",
   "metadata": {},
   "source": [
    "# \\~~Putting it all together~~\n",
    "\n",
    "Reintialize the model with 'pseudo-optimized' parameters, more easily track flow of data, and toggle with parameters all in one place. The \"database\" will also be created so that user queries will return results in a speedy manner!\n",
    "\n",
    "Some pieces of code will be commented out with a triple ***\\''' '''*** to indicate that the code takes too long to run and should only be run when the kernel has been shutdown."
   ]
  },
  {
   "cell_type": "code",
   "execution_count": null,
   "metadata": {},
   "outputs": [],
   "source": [
    "import pandas as pd\n",
    "import numpy as np\n",
    "import re\n",
    "import spacy\n",
    "from functools import reduce\n",
    "from operator import add\n",
    "import string\n",
    "import re\n",
    "import multiprocessing as mp\n",
    "\n",
    "### Below is all the code necessary to clean the data into useable form for modeling.\n",
    "'''\n",
    "# Loading Data\n",
    "allrecipes_raw = pd.read_json('../__DATA__/recipes_raw/recipes_raw_nosource_ar.json')\n",
    "epicurious_raw = pd.read_json('../__DATA__/recipes_raw/recipes_raw_nosource_epi.json')\n",
    "foodnetwork_raw = pd.read_json('../__DATA__/recipes_raw/recipes_raw_nosource_fn.json')\n",
    "\n",
    "allrecipes = allrecipes_raw.copy().T.reset_index().drop(columns = ['index'])\n",
    "epicurious = epicurious_raw.copy().T.reset_index().drop(columns = ['index'])\n",
    "foodnetwork = foodnetwork_raw.copy().T.reset_index().drop(columns = ['index'])\n",
    "recipes = pd.concat([allrecipes, epicurious, foodnetwork]).reset_index(drop=True) # Concat does not reset indices\n",
    "\n",
    "# Cleaning\n",
    "null_recs = recipes.copy().drop(columns = 'picture_link').T.isna().any()\n",
    "rows_to_drop = recipes[null_recs].index\n",
    "recipes = recipes.drop(index = rows_to_drop).reset_index(drop = True)\n",
    "\n",
    "nc_ingred_index = [index for i, index in zip(recipes['ingredients'], recipes.index) if all(j.isdigit() or j in string.punctuation for j in i)]\n",
    "nc_title_index = [index for i, index in zip(recipes['title'], recipes.index) if all(j.isdigit() or j in string.punctuation for j in i)]\n",
    "nc_instr_index = [index for i, index in zip(recipes['instructions'], recipes.index) if all(j.isdigit() or j in string.punctuation for j in i)]\n",
    "\n",
    "index_list = [nc_ingred_index, nc_title_index, nc_instr_index]\n",
    "\n",
    "inds_to_drop = set(reduce(add, index_list))\n",
    "print(len(inds_to_drop))\n",
    "recipes = recipes.drop(index=inds_to_drop).reset_index(drop=True)\n",
    "recipes.shape\n",
    "\n",
    "empty_instr_ind = [index for i, index in zip(recipes['instructions'], recipes.index) if len(i) < 20]\n",
    "recipes = recipes.drop(index = empty_instr_ind).reset_index(drop=True)\n",
    "\n",
    "ingredients = []\n",
    "for ing_list in recipes['ingredients']:\n",
    "    clean_ings = [ing.replace('ADVERTISEMENT','').strip() for ing in ing_list]\n",
    "    if '' in clean_ings:\n",
    "        clean_ings.remove('')\n",
    "    ingredients.append(clean_ings)\n",
    "recipes['ingredients'] = ingredients\n",
    "\n",
    "recipes['ingredient_text'] = ['; '.join(ingredients) for ingredients in recipes['ingredients']]\n",
    "recipes['ingredient_text'].head()\n",
    "\n",
    "recipes['ingredient_count'] = [len(ingredients) for ingredients in recipes['ingredients']]\n",
    "\n",
    "all_text = recipes['title'] + ' ' + recipes['ingredient_text'] + ' ' + recipes['instructions']\n",
    "\n",
    "def clean_text(documents):\n",
    "    cleaned_text = []\n",
    "    for doc in documents:\n",
    "        doc = doc.translate(str.maketrans('', '', string.punctuation)) # Remove Punctuation\n",
    "        doc = re.sub(r'\\d+', '', doc) # Remove Digits\n",
    "        doc = doc.replace('\\n',' ') # Remove New Lines\n",
    "        doc = doc.strip() # Remove Leading White Space\n",
    "        doc = re.sub(' +', ' ', doc) # Remove multiple white spaces\n",
    "        cleaned_text.append(doc)\n",
    "    return cleaned_text\n",
    "\n",
    "cleaned_text = clean_text(all_text)\n",
    "\n",
    "# Testing Strategies and Code\n",
    "nlp = spacy.load('en')\n",
    "' '.join([token.lemma_ for token in nlp(cleaned_text[2]) if not token.is_stop])\n",
    "\n",
    "def text_tokenizer_mp(doc):\n",
    "    tok_doc = ' '.join([token.lemma_ for token in nlp(doc) if not token.is_stop])\n",
    "    return tok_doc\n",
    "\n",
    "# Parallelzing tokenizing process\n",
    "pool = mp.Pool(mp.cpu_count())\n",
    "tokenized_text = pool.map(text_tokenizer_mp, [doc for doc in cleaned_text])\n",
    "'''\n",
    "\n",
    "# Creating TF-IDF Matrices and recalling text dependencies\n",
    "\n",
    "'''import text_tokenized.csv here to'''\n",
    "\n",
    "# TF-IDF vectorizer instance\n",
    "'''vectorizer = TfidfVectorizer(lowercase = True,\n",
    "                            ngram_range = (1,1))'''\n",
    "\n",
    "'''text_tfidf = vectorizer.fit_transform(tokenized_text)'''"
   ]
  },
  {
   "cell_type": "code",
   "execution_count": 514,
   "metadata": {},
   "outputs": [],
   "source": [
    "# Set All Recommendation Model Parameters\n",
    "N_topics = 50             # Number of Topics to Extract from corpora\n",
    "N_top_docs = 200          # Number of top documents within each topic to extract keywords\n",
    "N_top_words = 25          # Number of keywords to extract from each topic\n",
    "N_docs_categorized = 2000 # Number of top documents within each topic to tag \n",
    "N_neighbor_window = 4     # Length of word-radius that defines the neighborhood for\n",
    "                          # each word in the TextRank adjacency table\n",
    "\n",
    "# Query Similarity Weights\n",
    "w_title = 0.2\n",
    "w_text = 0.3\n",
    "w_categories = 0.5\n",
    "w_array = np.array([w_title, w_text, w_categories])\n",
    "\n",
    "# Recipe Stopwords: for any high volume food recipe terminology that doesn't contribute\n",
    "# to the searchability of a recipe. This list must be manually created.\n",
    "recipe_stopwords = ['cup','cups','ingredient','ingredients','teaspoon','teaspoons','tablespoon',\n",
    "                   'tablespoons','C','F']"
   ]
  },
  {
   "cell_type": "code",
   "execution_count": 515,
   "metadata": {},
   "outputs": [],
   "source": [
    "# Renaming Data Dependencies\n",
    "topic_transformed_matrix = text_nmf\n",
    "root_text_data = cleaned_text"
   ]
  },
  {
   "cell_type": "markdown",
   "metadata": {},
   "source": [
    "### Generating  tags (keywords/categories) and assigning to corresponding documents"
   ]
  },
  {
   "cell_type": "code",
   "execution_count": 623,
   "metadata": {},
   "outputs": [],
   "source": [
    "from itertools import repeat\n",
    "\n",
    "#recipes['tag_list'] = [[] for i in repeat(None, recipes.shape[0])]\n",
    "\n",
    "def topic_docs_4kwsummary(topic_document_scores, root_text_data):\n",
    "    '''Gathers and formats the top recipes in each topic'''\n",
    "    text_index = pd.Series(topic_document_scores).sort_values(ascending = False)[:N_top_docs].index\n",
    "    text_4kwsummary = pd.Series(root_text_data)[text_index]\n",
    "    return text_4kwsummary\n",
    "\n",
    "def generate_filter_kws(text_list):\n",
    "    '''Filters out specific parts of speech and stop words from the list of potential keywords'''\n",
    "    parsed_texts = nlp(' '.join(text_list)) \n",
    "    kw_filts = set([str(word) for word in parsed_texts \n",
    "                if (word.pos_== ('NOUN' or 'ADJ' or 'VERB'))\n",
    "                and word.lemma_ not in recipe_stopwords])\n",
    "    return list(kw_filts), parsed_texts\n",
    "\n",
    "def generate_adjacency(kw_filts, parsed_texts):\n",
    "    '''Tabulates counts of neighbors in the neighborhood window for each unique word'''\n",
    "    adjacency = pd.DataFrame(columns=kw_filts, index=kw_filts, data = 0)\n",
    "    for i, word in enumerate(parsed_texts):\n",
    "        if any ([str(word) == item for item in kw_filts]):\n",
    "            end = min(len(parsed_texts), i+N_neighbor_window+1) # Neighborhood Window Utilized Here\n",
    "            nextwords = parsed_texts[i+1:end]\n",
    "            inset = [str(x) in kw_filts for x in nextwords]\n",
    "            neighbors = [str(nextwords[i]) for i in range(len(nextwords)) if inset[i]]\n",
    "            if neighbors:\n",
    "                adjacency.loc[str(word), neighbors] += 1\n",
    "    return adjacency\n",
    "                \n",
    "def generate_wordranks(adjacency):\n",
    "    '''Runs TextRank on adjacency table'''\n",
    "    nx_words = nx.from_numpy_matrix(adjacency.values)\n",
    "    ranks=nx.pagerank(nx_words, alpha=.85, tol=.00000001)\n",
    "    return ranks\n",
    "\n",
    "def generate_tag_list(ranks):\n",
    "    '''Uses TextRank ranks to return actual key words for each topic in rank order'''\n",
    "    rank_values = [i for i in ranks.values()]\n",
    "    ranked = pd.DataFrame(zip(rank_values, list(kw_filts))).sort_values(by=0,axis=0,ascending=False)\n",
    "    kw_list = ranked.iloc[:N_top_words,1].to_list()\n",
    "    return kw_list\n",
    "\n",
    "# Master Function utilizing all above functions\n",
    "def generate_tags(topic_document_scores, root_text_data):\n",
    "    text_4kwsummary = topic_docs_4kwsummary(topic_document_scores, root_text_data)\n",
    "    kw_filts, parsed_texts = generate_filter_kws(text_4kwsummary)\n",
    "    adjacency = generate_adjacency(kw_filts, parsed_texts)\n",
    "    ranks = generate_wordranks(adjacency)\n",
    "    kw_list = generate_tag_list(ranks)\n",
    "    return kw_list\n",
    "\n",
    "def generate_kw_index(topic_document_scores):\n",
    "    kw_index = pd.Series(topic_document_scores).sort_values(ascending = False)[:N_docs_categorized].index\n",
    "    return kw_index\n",
    "\n",
    "    "
   ]
  },
  {
   "cell_type": "code",
   "execution_count": 624,
   "metadata": {},
   "outputs": [
    {
     "name": "stdout",
     "output_type": "stream",
     "text": [
      "Topic #0 Checkpoint\n",
      "Topic #10 Checkpoint\n",
      "Topic #20 Checkpoint\n",
      "Topic #30 Checkpoint\n",
      "Topic #40 Checkpoint\n",
      "done!\n"
     ]
    }
   ],
   "source": [
    "# Generating Tags and distributing to relevant documents\n",
    "for i in range(topic_transformed_matrix.shape[1]):\n",
    "    scores = topic_transformed_matrix[:,i]\n",
    "    topic_kws = generate_tags(scores, root_text_data)\n",
    "    kw_index_4df = generate_kw_index(scores)\n",
    "    recipes.loc[kw_index_4df, 'tag_list'] += topic_kws\n",
    "    if i%10 == 0:\n",
    "        print('Topic #{} Checkpoint'.format(i))\n",
    "print('done!')"
   ]
  },
  {
   "cell_type": "code",
   "execution_count": 626,
   "metadata": {},
   "outputs": [],
   "source": [
    "# Saving the precious dataframe so that I never have to calculate that again.\n",
    "recipes.to_csv('tagged_recipes_df.csv')"
   ]
  },
  {
   "cell_type": "code",
   "execution_count": 617,
   "metadata": {},
   "outputs": [],
   "source": [
    "scores = topic_transformed_matrix[:,1]\n",
    "topic_kws = generate_tags(scores, root_text_data)\n",
    "kw_index_4df = generate_kw_index(scores)\n",
    "recipes.loc[kw_index_4df, 'tag_list'] += topic_kws"
   ]
  },
  {
   "cell_type": "code",
   "execution_count": 726,
   "metadata": {},
   "outputs": [
    {
     "data": {
      "text/plain": [
       "0                                                   []\n",
       "1    [Measure, nutmeg, drop, raisin, remainder, sug...\n",
       "2                                                   []\n",
       "3    [sugar, degrees, flour, vanilla, baking, C, bo...\n",
       "4    [remove, Measure, Drop, pack, cinnamon, Craisi...\n",
       "5    [applesauce, looks, minutes, crumbs, bananas, ...\n",
       "Name: tag_list, dtype: object"
      ]
     },
     "execution_count": 726,
     "metadata": {},
     "output_type": "execute_result"
    }
   ],
   "source": [
    "recipes.loc[:5,'tag_list']"
   ]
  },
  {
   "cell_type": "code",
   "execution_count": 727,
   "metadata": {},
   "outputs": [],
   "source": [
    "# Concatenating lists of tags into a string a collective of tags for each documents\n",
    "recipes['tags'] = [' '.join(tags) for tags in recipes['tag_list']]"
   ]
  },
  {
   "cell_type": "code",
   "execution_count": 729,
   "metadata": {},
   "outputs": [
    {
     "data": {
      "text/plain": [
       "0                                                     \n",
       "1    Measure nutmeg drop raisin remainder sugar fla...\n",
       "2                                                     \n",
       "3    sugar degrees flour vanilla baking C bowl salt...\n",
       "4    remove Measure Drop pack cinnamon Craisins pas...\n",
       "5    applesauce looks minutes crumbs bananas add pu...\n",
       "Name: tags, dtype: object"
      ]
     },
     "execution_count": 729,
     "metadata": {},
     "output_type": "execute_result"
    }
   ],
   "source": [
    "recipes.loc[:5,'tags']"
   ]
  },
  {
   "cell_type": "markdown",
   "metadata": {},
   "source": [
    "### Querying Algorithm\n",
    "The final product presented is a search algorithm that takes in a list of ingredients or categories, and uses the query to return relavant recipes that utilize those ingredients or are similarly related to other ingredients and those recipes."
   ]
  },
  {
   "cell_type": "code",
   "execution_count": 730,
   "metadata": {},
   "outputs": [
    {
     "data": {
      "text/plain": [
       "Index(['ingredients', 'instructions', 'picture_link', 'title',\n",
       "       'ingredient_text', 'ingredient_count', 'tag_list', 'tags'],\n",
       "      dtype='object')"
      ]
     },
     "execution_count": 730,
     "metadata": {},
     "output_type": "execute_result"
    }
   ],
   "source": [
    "recipes.columns"
   ]
  },
  {
   "cell_type": "code",
   "execution_count": 1124,
   "metadata": {},
   "outputs": [],
   "source": [
    "# Creating TF-IDF Matrices and recalling text dependencies\n",
    "\n",
    "'''import text_tokenized.csv here'''\n",
    "\n",
    "# TF-IDF vectorizer instance\n",
    "'''vectorizer = TfidfVectorizer(lowercase = True,\n",
    "                            ngram_range = (1,1))'''\n",
    "\n",
    "'''text_tfidf = vectorizer.fit_transform(tokenized_text)'''\n",
    "# title_tfidf = vectorizer.transform(recipes['title'])\n",
    "# text_tfidf    <== Variable with recipe ingredients and instructions\n",
    "# tags_tfidf = vectorizer.transform(recipes['tags'])\n",
    "# recipes   <== DataFrame; For indexing and printing recipes\n",
    "\n",
    "# Query Similarity Weights\n",
    "w_title = .2\n",
    "w_text = .3\n",
    "w_categories = .5\n"
   ]
  },
  {
   "cell_type": "code",
   "execution_count": 908,
   "metadata": {},
   "outputs": [],
   "source": [
    "def qweight_array(query_length, qw_array = [1]):\n",
    "    '''Returns descending weights for ranked query ingredients'''\n",
    "    if query_length > 1:\n",
    "        to_split = qw_array.pop()\n",
    "        split = to_split/2\n",
    "        qw_array.extend([split, split])\n",
    "        return qweight_array(query_length - 1, qw_array)\n",
    "    else:\n",
    "        return np.array(qw_array)\n",
    "\n",
    "def ranked_query(query):\n",
    "    '''Called if query ingredients are ranked in order of importance.\n",
    "    Weights and adds each ranked query ingredient vector.'''\n",
    "    query = [[q] for q in query]      # place words in seperate documents\n",
    "    q_vecs = [vectorizer.transform(q) for q in query] \n",
    "    qw_array = qweight_array(len(query),[1])\n",
    "    q_weighted_vecs = q_vecs * qw_array\n",
    "    q_final_vector = reduce(np.add,q_weighted_vecs)\n",
    "    return q_final_vector\n",
    "\n",
    "def overall_scores(query_vector):\n",
    "    '''Calculates Query Similarity Scores against recipe title, instructions, and keywords.\n",
    "    Then returns weighted averages of similarities for each recipe.'''\n",
    "    final_scores = title_tfidf*query_vector.T*w_title\n",
    "    final_scores += text_tfidf*query_vector.T*w_text\n",
    "    final_scores += tags_tfidf*query_vector.T*w_categories\n",
    "    return final_scores\n",
    "\n",
    "def print_recipes(index, query, recipe_range):\n",
    "    '''Prints recipes according to query similary ranks'''\n",
    "    print('Search Query: {}\\n'.format(query))\n",
    "    for i, index in enumerate(index, recipe_range[0]):\n",
    "        print('Recipe Rank: {}\\t'.format(i+1),recipes.loc[index, 'title'],'\\n')\n",
    "        print('Ingredients:\\n{}\\n '.format(recipes.loc[index, 'ingredient_text']))\n",
    "        print('Instructions:\\n{}\\n'.format(recipes.loc[index, 'instructions']))\n",
    "        \n",
    "def Search_Recipes(query, query_ranked=False, recipe_range=(0,3)):\n",
    "    '''Master Recipe Search Function'''\n",
    "    if query_ranked == True:\n",
    "        q_vector = ranked_query(query)\n",
    "    else:\n",
    "        q_vector = vectorizer.transform([' '.join(query)])\n",
    "    recipe_scores = overall_scores(q_vector)\n",
    "    sorted_index = pd.Series(recipe_scores.toarray().T[0]).sort_values(ascending = False)[recipe_range[0]:recipe_range[1]].index\n",
    "    return print_recipes(sorted_index, query, recipe_range)\n",
    "    "
   ]
  },
  {
   "cell_type": "markdown",
   "metadata": {},
   "source": [
    "### Testing the Algorithm"
   ]
  },
  {
   "cell_type": "code",
   "execution_count": 1039,
   "metadata": {},
   "outputs": [
    {
     "name": "stdout",
     "output_type": "stream",
     "text": [
      "Search Query: ['cinnamon', 'cream', 'banana']\n",
      "\n",
      "Recipe Rank: 0\t Banana Cinnamon Roll Casserole \n",
      "\n",
      "Ingredients:\n",
      "4 large stale cinnamon rolls; 1 1/2 cups milk; 5 eggs; 2 teaspoons vanilla extract; 2 teaspoons ground cinnamon; 2 bananas, divided; 1/2 cup brown sugar\n",
      " \n",
      "Instructions:\n",
      "Slice cinnamon rolls into 1-inch squares. Whisk milk, eggs, vanilla extract, and cinnamon together in a bowl.\n",
      "Slice 1 banana and layer on bottom of a 9x13-inch baking dish; top with brown sugar. Layer cinnamon roll squares on top of banana. Pour egg mixture over cinnamon rolls; press cinnamon rolls with a spatula to allow egg mixture to fully coat. Cover with aluminum foil and refrigerate until egg mixture is absorbed, 1 hour to overnight.\n",
      "Preheat oven to 375 degrees F (190 degrees C).\n",
      "Bake in preheated oven until firm, about 50 minutes. Remove aluminum foil and bake until golden brown, about 10 minutes more. Remove from oven and let stand for 10 minutes. Slice remaining banana and place on top to serve.\n",
      "\n",
      "\n",
      "Recipe Rank: 1\t Cinnamon Bread I \n",
      "\n",
      "Ingredients:\n",
      "2 cups all-purpose flour; 1 cup white sugar; 2 teaspoons baking powder; 1/2 teaspoon baking soda; 1 1/2 teaspoons ground cinnamon; 1 teaspoon salt; 1 cup buttermilk; 1/4 cup vegetable oil; 2 eggs; 2 teaspoons vanilla extract; 2 tablespoons white sugar; 1 teaspoon ground cinnamon; 2 teaspoons margarine\n",
      " \n",
      "Instructions:\n",
      "Preheat oven to 350 degrees F (175 degrees C). Grease one 9x5 inch loaf pan.\n",
      "Measure flour, 1 cup sugar, baking powder, baking soda, 1 1/2 teaspoons cinnamon, salt, buttermilk, oil, eggs and vanilla into large mixing bowl. Beat 3 minutes. Pour into prepared loaf pan. Smooth top.\n",
      "Combine 2 tablespoons white sugar, 1 teaspoon cinnamon and butter, mixing until crumbly. Sprinkle topping over smoothed batter. Using knife, cut in a light swirling motion to give a marbled effect.\n",
      "Bake for about 50 minutes. Test with toothpick. When inserted it should come out clean. Remove bread from pan to rack to cool.\n",
      "\n",
      "\n",
      "Recipe Rank: 2\t Banana Sour Cream Bread \n",
      "\n",
      "Ingredients:\n",
      "1/4 cup white sugar; 1 teaspoon ground cinnamon; 3/4 cup butter; 3 cups white sugar; 3 eggs; 6 very ripe bananas, mashed; 1 (16 ounce) container sour cream; 2 teaspoons vanilla extract; 2 teaspoons ground cinnamon; 1/2 teaspoon salt; 3 teaspoons baking soda; 4 1/2 cups all-purpose flour; 1 cup chopped walnuts (optional)\n",
      " \n",
      "Instructions:\n",
      "Preheat oven to 300 degrees F (150 degrees C). Grease four 7x3 inch loaf pans. In a small bowl, stir together 1/4 cup white sugar and 1 teaspoon cinnamon. Dust pans lightly with cinnamon and sugar mixture.\n",
      "In a large bowl, cream butter and 3 cups sugar. Mix in eggs, mashed bananas, sour cream, vanilla and cinnamon. Mix in salt, baking soda and flour. Stir in nuts. Divide into prepared pans.\n",
      "Bake for 1 hour, until a toothpick inserted in center comes out clean.\n",
      "\n",
      "\n"
     ]
    }
   ],
   "source": [
    "query = ['cinnamon', 'cream', 'banana']\n",
    "Search_Recipes(query, query_ranked=True, recipe_range=(0,3))"
   ]
  },
  {
   "cell_type": "code",
   "execution_count": 1130,
   "metadata": {},
   "outputs": [
    {
     "name": "stdout",
     "output_type": "stream",
     "text": [
      "Search Query: ['wine', 'cilantro', 'butter']\n",
      "\n",
      "Recipe Rank: 0\t Cilantro Butter \n",
      "\n",
      "Ingredients:\n",
      "1 stick unsalted butter, slightly softened; 6 cloves garlic, coarsely chopped; 1/4 cup fresh cilantro leaves; 1 to 2 teaspoons fresh lime juice; Kosher salt and freshly ground pepper\n",
      " \n",
      "Instructions:\n",
      "Combine the butter, garlic, cilantro and 1 teaspoon lime juice in a food processor or with a mixer until smooth. Season with salt and pepper, and add more lime juice if needed.\n",
      "Photographs by Steve Giralt\n",
      "\n",
      "Recipe Rank: 1\t Cilantro Oil \n",
      "\n",
      "Ingredients:\n",
      "2 cups packed cilantro leaves; 1 cup lighttasting olive oil\n",
      " \n",
      "Instructions:\n",
      "Bring a large saucepan of water to a boil. Add the cilantro, making sure to push all the leaves under the boiling water. Blanch the cilantro for 5 seconds. Drain and immediately plunge into a bowl of ice water. Drain well and squeeze out all liquid.\n",
      "In a blender, puree the cilantro with the olive oil. Strain the puree through 6 layers of cheesecloth or a paper coffee filter and put in a sterilized glass bottle, tightly capped.\n",
      "Store in the refrigerator for up to 2 weeks.\n",
      "\n",
      "Recipe Rank: 2\t Cilantro Salt \n",
      "\n",
      "Ingredients:\n",
      "1 bunch cilantro leaves; 3/4 cup kosher salt; 3/4 cup sea salt\n",
      " \n",
      "Instructions:\n",
      "Place all ingredients in food processor and pulse until salt is bright green.\n",
      "\n"
     ]
    }
   ],
   "source": [
    "# Test Rank\n",
    "query = ['wine', 'cilantro','butter']\n",
    "Search_Recipes(query, query_ranked=False, recipe_range=(0,3))"
   ]
  },
  {
   "cell_type": "markdown",
   "metadata": {},
   "source": [
    "### -- Conclusions and Model Outlook --\n",
    "\n",
    "Overall the Search_Recipes function works quite well. From experimenting with the weighting, it's clear to me that the original text of the recipes returns better results than the categories generated with TextRank. More topics need to be added; from looking at the food topic documents, it's clear that the level of granularity with which LDA and NNMF can cluster recipe is very good. Another fix for this issue is to utilize dense word embeddings that capture semantic similarities between words with more sophistication. THe biggest issue with the current model is that the words that maps to each topics or category are limited and discreet. Even if a a words is technically more related to a topic than the words extracted from the same topic, yet the word was not extracted from the topic, then the original word query won't be factored into the search through the categories.\n",
    "\n",
    "Also it does appear that some words are more heavily weighted than others, which biases the search results towards that ingredient, although this does require more rigorous texting. \"Miso\" is a word that is heavily weighted in the tfidf matrices for example. One work around is to use simple rank this ingredient lower in the Search_Recipes function, but a global solution is preferable. It is perhaps more beneficial to utilize these weights that tf-idf creates, rather than finding a way to get rid of them. But experimenting with different word embeddings would be interesting.\n",
    "\n",
    "Also, another issue is that many recipes were not assigned categories due to the model parameters, and this decreases there ranks with the text with an unfair disadvantage. Hopefully a future iteration of this model will allow all recipes to have associated categories.\n",
    "\n",
    "Future Implementation and Changes for this model:\n",
    "\n",
    "- Word2Vec or GloVe embeddings\n",
    "- LDA2Vec topic extraction\n",
    "- Negative Querying that decreases rank of matching queries\n",
    "- Using real databases to store data and creating a creating an user interface on which this model where this model can be easily utilized\n",
    "\n"
   ]
  },
  {
   "cell_type": "code",
   "execution_count": 1044,
   "metadata": {},
   "outputs": [
    {
     "name": "stdout",
     "output_type": "stream",
     "text": [
      "Search Query: ['jelly', 'wine']\n",
      "\n",
      "Recipe Rank: 0\t Wine Jelly \n",
      "\n",
      "Ingredients:\n",
      "3 1/2 cups wine; 1/2 cup fresh lemon juice; 1 (2 ounce) package dry pectin; 4 1/2 cups white sugar\n",
      " \n",
      "Instructions:\n",
      "Combine wine, lemon juice, and pectin in a large saucepot. Bring to a boil, stirring frequently. Add sugar, stirring until dissolved. Return to a rolling boil. Boil hard 1 minute, stirring constantly. Remove from heat. Skim foam off top, if necessary.\n",
      "Ladle hot jelly into hot, sterilized jars, leaving 1/2 inch headspace. Tighten 2 piece lids. Process for 5 minutes in boiling water bath.\n",
      "\n",
      "\n",
      "Recipe Rank: 1\t Pepper Jelly Appetizer  \n",
      "\n",
      "Ingredients:\n",
      "1 (8 ounce) package cream cheese, softened; 1/2 cup mild pepper jelly\n",
      " \n",
      "Instructions:\n",
      "Spread jelly over the block of cream cheese.\n",
      "\n",
      "\n",
      "Recipe Rank: 2\t Cheesy Pepper Jelly \n",
      "\n",
      "Ingredients:\n",
      "8 ounces cream cheese, at room temperature; 6 ounces pepper jelly; Olive oil and black pepper crackers, for serving\n",
      " \n",
      "Instructions:\n",
      "In a bowl mix the cream cheese and pepper jelly. Serve with olive oil and black pepper crackers.\n",
      "\n"
     ]
    }
   ],
   "source": [
    "# Test \n",
    "query = ['jelly','wine']\n",
    "Search_Recipes(query, query_ranked=False, recipe_range=(0,3))"
   ]
  },
  {
   "cell_type": "code",
   "execution_count": 1045,
   "metadata": {},
   "outputs": [
    {
     "name": "stdout",
     "output_type": "stream",
     "text": [
      "Search Query: ['pepper', 'apple', 'pork']\n",
      "\n",
      "Recipe Rank: 0\t Apple Butter Pork Loin \n",
      "\n",
      "Ingredients:\n",
      "2 (2 pound) boneless pork loin roast; seasoning salt to taste; 2 cups apple juice; 1/2 cup apple butter; 1/4 cup brown sugar; 2 tablespoons water; 1/4 teaspoon ground cinnamon; 1/4 teaspoon ground cloves\n",
      " \n",
      "Instructions:\n",
      "Preheat the oven to 350 degrees F (175 degrees C).\n",
      "Season the pork loins with seasoning salt, and place them in a 9x13 inch baking dish or small roasting pan. Pour apple juice over the pork, and cover the dish with a lid or aluminum foil.\n",
      "Bake for 1 hour in the preheated oven. While the pork is roasting, mix together the apple butter, brown sugar, water, cinnamon, and cloves. Remove pork roasts from the oven, and spread with apple butter mixture.\n",
      "Cover, and return to the oven for 2 hours, or until fork-tender.\n",
      "\n",
      "\n",
      "Recipe Rank: 1\t Shredded Apple Pork \n",
      "\n",
      "Ingredients:\n",
      "1 cup MUSSELMAN'S® Apple Butter; 1/4 cup MUSSELMAN'S® Apple Cider Vinegar; 1/4 cup brown sugar; 2 tablespoons garlic, minced; 2 tablespoons whole grain Dijon mustard; 1 teaspoon salt; 1 teaspoon pepper; 2 medium apples, cored and chopped; 1 medium onion, chopped; 6 boneless pork chops\n",
      " \n",
      "Instructions:\n",
      "In small bowl, whisk together apple butter, vinegar, brown sugar, garlic, Dijon mustard, salt and pepper.\n",
      "Place chopped apples and onions in slow cooker. Add pork chops and pour apple butter mixture over top.\n",
      "Cook on low for 5 to 6 hours, covered. Shred pork with two forks in cooker, and let meat marinate on low in sauce for 20 minutes, uncovered. Serve warm over rice or mashed potatoes.\n",
      "\n",
      "\n",
      "Recipe Rank: 2\t Pork with Apple Cream Sauce \n",
      "\n",
      "Ingredients:\n",
      "Kosher salt; 12 ounces haricots verts or green beans, trimmed; 3 tablespoons unsalted butter; 3 tablespoons chopped fresh parsley; Freshly ground pepper; 4 boneless center-cut pork chops (1 inch thick, 6 to 7 ounces each); 2 teaspoons chopped fresh thyme; 2 tablespoons vegetable oil; 1 large shallot, finely chopped; 2 Granny Smith apples, thinly sliced; 1 cup hard cider (or 1/2 cup each apple cider and white wine); 1/2 cup pitted prunes, halved; 1 cup heavy cream\n",
      " \n",
      "Instructions:\n",
      "Bring a large pot of salted water to a boil. Add the haricots verts; cook until crisp-tender, 4 minutes. Drain and toss with 1 tablespoon each butter and parsley; season with salt and pepper. Cover to keep warm.\n",
      "Meanwhile, season the pork with salt and pepper and rub with the thyme. Heat the vegetable oil in a large skillet over medium-high heat. Add the pork and cook until browned and just cooked through, 4 to 5 minutes per side. Transfer to a plate; tent with foil and let rest.\n",
      "Wipe out the skillet; add the remaining 2 tablespoons butter. Add the shallot and cook, stirring, until softened, about 1 minute. Add the apples and cook, stirring, until lightly browned, about 3 minutes. Add the cider and prunes; cook until reduced by half, about 3 minutes. Add the heavy cream and cook until thickened, 3 to 5 minutes. Season with salt and pepper and stir in the remaining 2 tablespoons parsley. Serve the pork with the apple cream sauce and haricots verts.\n",
      "Photograph by Justin Walker\n",
      "\n"
     ]
    }
   ],
   "source": [
    "query = ['pepper','apple','pork']\n",
    "Search_Recipes(query, query_ranked=False, recipe_range=(0,3))"
   ]
  },
  {
   "cell_type": "code",
   "execution_count": 1017,
   "metadata": {},
   "outputs": [
    {
     "data": {
      "text/plain": [
       "'pastry flavor loaf hand molasses tube food pour surface sugars texture Sprinkle chill C carrot maple lowfat eggs Wheat one bottom paperline candy Drop cook'"
      ]
     },
     "execution_count": 1017,
     "metadata": {},
     "output_type": "execute_result"
    }
   ],
   "source": [
    "recipes['tags'][122894]"
   ]
  },
  {
   "cell_type": "markdown",
   "metadata": {},
   "source": [
    "--------\n",
    "### Some notes:\n",
    "List of Parameters and Evaluation Methods\n",
    "- Number of Topics\n",
    "- Number of Documents to pull keywords from\n",
    "- Number of Keywords per topic\n",
    "- Number of Documents to assign keywords to\n",
    "- Neighbor Window Size\n",
    "- Query Title Weight\n",
    "- Query Description Weight\n",
    "- Query Category Weight"
   ]
  },
  {
   "cell_type": "code",
   "execution_count": 1047,
   "metadata": {},
   "outputs": [
    {
     "name": "stdout",
     "output_type": "stream",
     "text": [
      "Search Query: ['cream', 'banana', 'cinnamon']\n",
      "\n",
      "Recipe Rank: 0\t Banana Cinnamon Roll Casserole \n",
      "\n",
      "Ingredients:\n",
      "4 large stale cinnamon rolls; 1 1/2 cups milk; 5 eggs; 2 teaspoons vanilla extract; 2 teaspoons ground cinnamon; 2 bananas, divided; 1/2 cup brown sugar\n",
      " \n",
      "Instructions:\n",
      "Slice cinnamon rolls into 1-inch squares. Whisk milk, eggs, vanilla extract, and cinnamon together in a bowl.\n",
      "Slice 1 banana and layer on bottom of a 9x13-inch baking dish; top with brown sugar. Layer cinnamon roll squares on top of banana. Pour egg mixture over cinnamon rolls; press cinnamon rolls with a spatula to allow egg mixture to fully coat. Cover with aluminum foil and refrigerate until egg mixture is absorbed, 1 hour to overnight.\n",
      "Preheat oven to 375 degrees F (190 degrees C).\n",
      "Bake in preheated oven until firm, about 50 minutes. Remove aluminum foil and bake until golden brown, about 10 minutes more. Remove from oven and let stand for 10 minutes. Slice remaining banana and place on top to serve.\n",
      "\n",
      "\n",
      "Recipe Rank: 1\t Cinnamon Banana Cream Cake \n",
      "\n",
      "Ingredients:\n",
      "Cake:; 1 (18.25 ounce) package vanilla cake mix; 1 cup water; 3 eggs; 1/3 cup oil; 3 very ripe bananas, mashed; 2 teaspoons ground cinnamon; 1 teaspoon baking soda; Frosting:; 1 cup milk; 1 (3.5 ounce) package instant banana cream pudding mix; 1 (8 ounce) container low-fat frozen whipped topping (such as Cool Whip® Lite), thawed\n",
      " \n",
      "Instructions:\n",
      "Preheat oven to 350 degrees F (175 degrees C). Grease a 13x9-inch baking dish.\n",
      "Beat cake mix, water, eggs, and oil together in a bowl using a electric mixer until batter is smooth and well mixed, about 2 minutes. Mix bananas, cinnamon, and baking soda together in a separate bowl; stir into batter. Pour batter into the prepared baking dish.\n",
      "Bake in the preheated oven until a toothpick inserted in the center of the cake comes out clean, 35 to 40 minutes. Cool cake completely.\n",
      "Beat milk and pudding mix together in a bowl until smooth; fold in whipped topping until frosting is smooth. Spread frosting onto cooled cake.\n",
      "\n",
      "\n",
      "Recipe Rank: 2\t Banana Ice Cream Topping \n",
      "\n",
      "Ingredients:\n",
      "2 bananas, sliced into 1/4-inch pieces; 1 tablespoon brown sugar; 1 tablespoon milk; 2 teaspoons ground cinnamon; 1 teaspoon vanilla extract\n",
      " \n",
      "Instructions:\n",
      "Place bananas in a saucepan over high heat; cook and stir until bananas become a chunky paste, about 5 minutes. Turn temperature down to medium, and mix brown sugar, milk, cinnamon, and vanilla extract into saucepan. Stir until all ingredients are well combined, about 5 minutes.\n",
      "\n",
      "\n"
     ]
    }
   ],
   "source": [
    "### No Category Weight\n",
    "query = ['cream','banana','cinnamon']\n",
    "Search_Recipes(query, query_ranked=False, recipe_range=(0,3))"
   ]
  },
  {
   "cell_type": "code",
   "execution_count": 1048,
   "metadata": {},
   "outputs": [
    {
     "name": "stdout",
     "output_type": "stream",
     "text": [
      "Search Query: []\n",
      "\n",
      "Recipe Rank: 0\t Crabby Bisque \n",
      "\n",
      "Ingredients:\n",
      "3 (10.5-ounce) cans restaurant-style condensed crab bisque (recommended: Bookbinder's); 2 1/4 cups plus 6 tablespoons heavy cream; 3 tablespoons fresh lemon juice; 3 tablespoons chopped fresh parsley leaves; 3 (4.25 ounce) cans crabmeat, picked over; Salt; Cayenne pepper\n",
      " \n",
      "Instructions:\n",
      "Watch how to make this recipe.\n",
      "In a medium saucepan, combine bisque, 2 1/4 cups heavy cream, lemon juice, parsley, and crabmeat with juices and bring to a simmer over medium heat for 5 to 10 minutes. Season soup, to taste, with salt and cayenne pepper. Divide soup among 6 bowls. Add 1 tablespoon of cream to each bowl and swirl with butter knife to create a pretty design. Serve immediately.\n",
      "\n",
      "Recipe Rank: 1\t Chocolate Hazelnut Praline Torte with Frangelico Whipped Cream  \n",
      "\n",
      "Ingredients:\n",
      "1 recipeHazelnut Praline; 3 ounces fine-quality bittersweet chocolate (not unsweetened), chopped coarse; 3/4 stick (6 tablespoons) unsalted butter, softened; 1 teaspoon salt; 1/2 cup sugar; 4 large eggs, separated; 1 teaspoon vanilla extract; 1 cup well-chilled heavy cream; 2 tablespoons Frangelico (hazelnut-flavored liqueur)\n",
      " \n",
      "Instructions:\n",
      "Preheat oven to 350°F. Butter an 8 1/2-inch springform pan (2 inches deep) or other cake pan with same dimensions and line bottom with a round of wax paper. Butter paper and dust pan with flour, knocking out excess flour. In a food processor pulse praline until ground fine. Reserve 1/4 cup ground praline and transfer remaining praline to a bowl. In food processor pulse chocolate until finely ground and add to bowl of praline. In a bowl with an electric mixer cream together butter, salt, and 1/4 cup sugar until light and fluffy. Beat in yolks, 1 at a time, beating well after each addition, and beat in vanilla. Stir in praline chocolate mixture (mixture will be very thick). In another bowl with cleaned beaters beat whites until foamy and add a pinch salt and remaining 1/4 cup sugar in a steam, beating until meringue just holds stiff peaks. Fold one third meringue into yolk mixture to lighten and fold in remaining meringue gently but thoroughly. Pour batter into pan and smooth top. Bake tort in middle of oven 45 to 55 minutes, or until it begins to pull away from side of pan. Cool torte in pan on a rack (torte will fall slightly and continue to set as it cooks) and remove from pan. Torte may be made 1 day ahead and chilled, covered. Bring torte to room temperature before serving. In a bowl with an electric mixer beat cream until it just holds soft peaks. Stir in Frangelico and half of reserved praline.\n",
      "Preheat oven to 350°F. Butter an 8 1/2-inch springform pan (2 inches deep) or other cake pan with same dimensions and line bottom with a round of wax paper. Butter paper and dust pan with flour, knocking out excess flour.\n",
      "In a food processor pulse praline until ground fine. Reserve 1/4 cup ground praline and transfer remaining praline to a bowl. In food processor pulse chocolate until finely ground and add to bowl of praline.\n",
      "In a bowl with an electric mixer cream together butter, salt, and 1/4 cup sugar until light and fluffy. Beat in yolks, 1 at a time, beating well after each addition, and beat in vanilla. Stir in praline chocolate mixture (mixture will be very thick).\n",
      "In another bowl with cleaned beaters beat whites until foamy and add a pinch salt and remaining 1/4 cup sugar in a steam, beating until meringue just holds stiff peaks. Fold one third meringue into yolk mixture to lighten and fold in remaining meringue gently but thoroughly. Pour batter into pan and smooth top.\n",
      "Bake tort in middle of oven 45 to 55 minutes, or until it begins to pull away from side of pan. Cool torte in pan on a rack (torte will fall slightly and continue to set as it cooks) and remove from pan. Torte may be made 1 day ahead and chilled, covered. Bring torte to room temperature before serving.\n",
      "In a bowl with an electric mixer beat cream until it just holds soft peaks. Stir in Frangelico and half of reserved praline.\n",
      "Top torte with whipped cream and sprinkle with remaining reserves praline. Serve torte immediately.\n",
      "Top torte with whipped cream and sprinkle with remaining reserves praline. Serve torte immediately.\n",
      "\n",
      "Recipe Rank: 2\t Pot-Roasted Artichokes  \n",
      "\n",
      "Ingredients:\n",
      "1 lemon, halved; 3 1/2 pounds baby artichokes (about 18); 1/4 cup olive oil; 2 garlic cloves, thinly sliced; Kosher salt; 1 1/2 cups dry white wine (such as Sauvignon Blanc); 1 tablespoon drained capers; 1/4 cup torn fresh mint leaves; 2 tablespoons fresh flat-leaf parsley leaves\n",
      " \n",
      "Instructions:\n",
      "Squeeze lemon into a large bowl of cold water. Working with 1 artichoke at a time, pull off tough dark outer leaves until mostly yellow leaves remain. Using a serrated knife, cut 1\" off from top. Trim stem, leaving at least 1/2\" of stem intact; using a paring knife or vegetable peeler, remove tough outer layer from stem. Dip artichoke in lemon water to prevent discoloration. Pry open leaves to expose choke. Using a small spoon, scrape choke from artichoke and discard. Place artichoke in lemon water. Drain artichokes and set stem side up on a paper towel-lined baking sheet. Let stand about 2 minutes to drain; pat dry. Heat oil in a wide heavy pot over medium-high heat. Place artichokes, stem side up, in pot and reduce heat to medium-low. Scatter garlic over, season with salt, and cook, without stirring, just until garlic is golden, about 3 minutes. Add wine; cover pot, reduce heat, and simmer, without stirring (which could cause artichokes to fall apart), until artichoke hearts are very tender, 25-30 minutes. Add capers, bring to a boil, and cook, uncovered, until wine has evaporated, about 2 minutes. Add mint and parsley and cook (it's okay if a few artichokes tip over), reducing heat if necessary to prevent scorching, until artichoke tops are deep golden brown, about 3 minutes. Serve artichokes warm or room temperature, drizzled with pan juices. DO AHEAD: Artichokes can be made 2 hours ahead. Let stand at room temperature.\n",
      "Squeeze lemon into a large bowl of cold water. Working with 1 artichoke at a time, pull off tough dark outer leaves until mostly yellow leaves remain. Using a serrated knife, cut 1\" off from top. Trim stem, leaving at least 1/2\" of stem intact; using a paring knife or vegetable peeler, remove tough outer layer from stem. Dip artichoke in lemon water to prevent discoloration. Pry open leaves to expose choke. Using a small spoon, scrape choke from artichoke and discard. Place artichoke in lemon water.\n",
      "Drain artichokes and set stem side up on a paper towel-lined baking sheet. Let stand about 2 minutes to drain; pat dry.\n",
      "Heat oil in a wide heavy pot over medium-high heat. Place artichokes, stem side up, in pot and reduce heat to medium-low. Scatter garlic over, season with salt, and cook, without stirring, just until garlic is golden, about 3 minutes.\n",
      "Add wine; cover pot, reduce heat, and simmer, without stirring (which could cause artichokes to fall apart), until artichoke hearts are very tender, 25-30 minutes.\n",
      "Add capers, bring to a boil, and cook, uncovered, until wine has evaporated, about 2 minutes. Add mint and parsley and cook (it's okay if a few artichokes tip over), reducing heat if necessary to prevent scorching, until artichoke tops are deep golden brown, about 3 minutes.\n",
      "Serve artichokes warm or room temperature, drizzled with pan juices.\n",
      "DO AHEAD: Artichokes can be made 2 hours ahead. Let stand at room temperature.\n",
      "\n"
     ]
    }
   ],
   "source": [
    "### Empty Query\n",
    "query = []\n",
    "Search_Recipes(query, query_ranked=False, recipe_range=(0,3))"
   ]
  },
  {
   "cell_type": "code",
   "execution_count": 1050,
   "metadata": {},
   "outputs": [
    {
     "name": "stdout",
     "output_type": "stream",
     "text": [
      "Search Query: ['apple', 'blueberry']\n",
      "\n",
      "Recipe Rank: 0\t Carrots a la Orange \n",
      "\n",
      "Ingredients:\n",
      "1 (16 ounce) package carrots, peeled and sliced; 1 tablespoon white sugar; 1 teaspoon cornstarch; 1/4 teaspoon salt; 1/4 teaspoon ground ginger; 1/4 cup orange juice; 2 tablespoons butter\n",
      " \n",
      "Instructions:\n",
      "Bring a pot of lightly salted water to a boil in a saucepan and cook carrots in the boiling water until just tender, about 15 minutes. Drain. Transfer carrots to a serving dish and keep warm.\n",
      "Whisk sugar, cornstarch, salt, and ginger in a saucepan until thoroughly combined; turn heat to medium and whisk in orange juice. Bring to a simmer, whisking constantly, and cook until sauce is smooth and thickened, about 3 minutes; stir in butter. Pour sauce over carrots, stir to coat, and serve.\n",
      "\n",
      "\n",
      "Recipe Rank: 1\t Cumin and Orange Glazed Carrots  \n",
      "\n",
      "Ingredients:\n",
      "3 navel oranges; 4 pounds medium carrots (24), peeled; 3 1/2 tablespoons vegetable or olive oil; 1 1/2 teaspoons cumin seeds; 1 3/4 cups water; 2 tablespoons fresh lemon juice; 1 tablespoon sugar; 1 1/4 teaspoons salt; 1/2 teaspoon black pepper; Special equipment: parchment paper or wax paper\n",
      " \n",
      "Instructions:\n",
      "Cut out a round from parchment paper to fit just inside a 12-inch heavy skillet (3 inches deep), then set round aside. Cut peel, including all white pith, from oranges with a sharp paring knife. Working over a bowl, cut segments free from membranes, letting segments fall into bowl, then squeeze 1/2 cup juice from membranes into another bowl (discard membranes). Chop orange segments and reserve. Cut a 1-inch-thick diagonal slice from a carrot and set aside, then roll carrot away from you 90 degrees and cut another 1-inch-thick diagonal slice. (Shape will resemble a trapezoidal log. If carrots are very thick, cut slices in half lengthwise as well). Cut up rest of carrot in same manner, then repeat with remaining carrots. Heat oil in skillet over moderate heat until hot but not smoking, then add cumin seeds and cook, stirring, until fragrant, about 1 minute. Add carrots, water, orange juice, lemon juice, sugar, salt, and pepper. Cover carrots directly with parchment round and simmer, stirring occasionally, 30 minutes. Remove parchment, then continue to simmer, stirring occasionally, until most of liquid is evaporated and carrots are tender and glazed, about 20 minutes more. Serve warm or at room temperature, sprinkled with chopped orange.\n",
      "Cut out a round from parchment paper to fit just inside a 12-inch heavy skillet (3 inches deep), then set round aside.\n",
      "Cut peel, including all white pith, from oranges with a sharp paring knife. Working over a bowl, cut segments free from membranes, letting segments fall into bowl, then squeeze 1/2 cup juice from membranes into another bowl (discard membranes). Chop orange segments and reserve.\n",
      "Cut a 1-inch-thick diagonal slice from a carrot and set aside, then roll carrot away from you 90 degrees and cut another 1-inch-thick diagonal slice. (Shape will resemble a trapezoidal log. If carrots are very thick, cut slices in half lengthwise as well). Cut up rest of carrot in same manner, then repeat with remaining carrots.\n",
      "Heat oil in skillet over moderate heat until hot but not smoking, then add cumin seeds and cook, stirring, until fragrant, about 1 minute. Add carrots, water, orange juice, lemon juice, sugar, salt, and pepper. Cover carrots directly with parchment round and simmer, stirring occasionally, 30 minutes. Remove parchment, then continue to simmer, stirring occasionally, until most of liquid is evaporated and carrots are tender and glazed, about 20 minutes more. Serve warm or at room temperature, sprinkled with chopped orange.\n",
      "\n",
      "Recipe Rank: 2\t Orange-Honey Glazed Carrots \n",
      "\n",
      "Ingredients:\n",
      "3 bunches carrots, peeled; 2 tablespoons unsalted butter; 2 tablespoons honey; Kosher salt; 1 teaspoon minced fresh ginger; 1 teaspoon grated orange zest; 1/2 cup freshly squeezed orange juice; 1/2 teaspoon freshly ground black pepper\n",
      " \n",
      "Instructions:\n",
      "Cut the carrots diagonally in 1-inch-thick slices. You should have about 5 cups of carrots. Place 1/2 cup water, the butter, honey, 2 teaspoons of salt, and the ginger in a large saute pan and bring to a boil. Add the carrots, cover the pan, and simmer over medium-low heat for 5 minutes. Remove the lid and continue to cook for about 20 minutes, or until all the water has evaporated. You may want to raise the heat for the last 5 minutes.\n",
      "Add the orange zest and orange juice to the pan, tossing with the carrots. Simmer uncovered for about 5 minutes, until the carrots are al dente (tender but still resistant when you bite) and the sauce glazes the carrots. Add the pepper and another teaspoon of salt, to taste.\n",
      "\n"
     ]
    }
   ],
   "source": [
    "### Only Category Weight\n",
    "query = ['apple','blueberry']\n",
    "Search_Recipes(query, query_ranked=False, recipe_range=(0,3))"
   ]
  },
  {
   "cell_type": "code",
   "execution_count": 1051,
   "metadata": {},
   "outputs": [
    {
     "name": "stdout",
     "output_type": "stream",
     "text": [
      "Search Query: ['japanese']\n",
      "\n",
      "Recipe Rank: 0\t Crabby Bisque \n",
      "\n",
      "Ingredients:\n",
      "3 (10.5-ounce) cans restaurant-style condensed crab bisque (recommended: Bookbinder's); 2 1/4 cups plus 6 tablespoons heavy cream; 3 tablespoons fresh lemon juice; 3 tablespoons chopped fresh parsley leaves; 3 (4.25 ounce) cans crabmeat, picked over; Salt; Cayenne pepper\n",
      " \n",
      "Instructions:\n",
      "Watch how to make this recipe.\n",
      "In a medium saucepan, combine bisque, 2 1/4 cups heavy cream, lemon juice, parsley, and crabmeat with juices and bring to a simmer over medium heat for 5 to 10 minutes. Season soup, to taste, with salt and cayenne pepper. Divide soup among 6 bowls. Add 1 tablespoon of cream to each bowl and swirl with butter knife to create a pretty design. Serve immediately.\n",
      "\n",
      "Recipe Rank: 1\t Chocolate Hazelnut Praline Torte with Frangelico Whipped Cream  \n",
      "\n",
      "Ingredients:\n",
      "1 recipeHazelnut Praline; 3 ounces fine-quality bittersweet chocolate (not unsweetened), chopped coarse; 3/4 stick (6 tablespoons) unsalted butter, softened; 1 teaspoon salt; 1/2 cup sugar; 4 large eggs, separated; 1 teaspoon vanilla extract; 1 cup well-chilled heavy cream; 2 tablespoons Frangelico (hazelnut-flavored liqueur)\n",
      " \n",
      "Instructions:\n",
      "Preheat oven to 350°F. Butter an 8 1/2-inch springform pan (2 inches deep) or other cake pan with same dimensions and line bottom with a round of wax paper. Butter paper and dust pan with flour, knocking out excess flour. In a food processor pulse praline until ground fine. Reserve 1/4 cup ground praline and transfer remaining praline to a bowl. In food processor pulse chocolate until finely ground and add to bowl of praline. In a bowl with an electric mixer cream together butter, salt, and 1/4 cup sugar until light and fluffy. Beat in yolks, 1 at a time, beating well after each addition, and beat in vanilla. Stir in praline chocolate mixture (mixture will be very thick). In another bowl with cleaned beaters beat whites until foamy and add a pinch salt and remaining 1/4 cup sugar in a steam, beating until meringue just holds stiff peaks. Fold one third meringue into yolk mixture to lighten and fold in remaining meringue gently but thoroughly. Pour batter into pan and smooth top. Bake tort in middle of oven 45 to 55 minutes, or until it begins to pull away from side of pan. Cool torte in pan on a rack (torte will fall slightly and continue to set as it cooks) and remove from pan. Torte may be made 1 day ahead and chilled, covered. Bring torte to room temperature before serving. In a bowl with an electric mixer beat cream until it just holds soft peaks. Stir in Frangelico and half of reserved praline.\n",
      "Preheat oven to 350°F. Butter an 8 1/2-inch springform pan (2 inches deep) or other cake pan with same dimensions and line bottom with a round of wax paper. Butter paper and dust pan with flour, knocking out excess flour.\n",
      "In a food processor pulse praline until ground fine. Reserve 1/4 cup ground praline and transfer remaining praline to a bowl. In food processor pulse chocolate until finely ground and add to bowl of praline.\n",
      "In a bowl with an electric mixer cream together butter, salt, and 1/4 cup sugar until light and fluffy. Beat in yolks, 1 at a time, beating well after each addition, and beat in vanilla. Stir in praline chocolate mixture (mixture will be very thick).\n",
      "In another bowl with cleaned beaters beat whites until foamy and add a pinch salt and remaining 1/4 cup sugar in a steam, beating until meringue just holds stiff peaks. Fold one third meringue into yolk mixture to lighten and fold in remaining meringue gently but thoroughly. Pour batter into pan and smooth top.\n",
      "Bake tort in middle of oven 45 to 55 minutes, or until it begins to pull away from side of pan. Cool torte in pan on a rack (torte will fall slightly and continue to set as it cooks) and remove from pan. Torte may be made 1 day ahead and chilled, covered. Bring torte to room temperature before serving.\n",
      "In a bowl with an electric mixer beat cream until it just holds soft peaks. Stir in Frangelico and half of reserved praline.\n",
      "Top torte with whipped cream and sprinkle with remaining reserves praline. Serve torte immediately.\n",
      "Top torte with whipped cream and sprinkle with remaining reserves praline. Serve torte immediately.\n",
      "\n",
      "Recipe Rank: 2\t Pot-Roasted Artichokes  \n",
      "\n",
      "Ingredients:\n",
      "1 lemon, halved; 3 1/2 pounds baby artichokes (about 18); 1/4 cup olive oil; 2 garlic cloves, thinly sliced; Kosher salt; 1 1/2 cups dry white wine (such as Sauvignon Blanc); 1 tablespoon drained capers; 1/4 cup torn fresh mint leaves; 2 tablespoons fresh flat-leaf parsley leaves\n",
      " \n",
      "Instructions:\n",
      "Squeeze lemon into a large bowl of cold water. Working with 1 artichoke at a time, pull off tough dark outer leaves until mostly yellow leaves remain. Using a serrated knife, cut 1\" off from top. Trim stem, leaving at least 1/2\" of stem intact; using a paring knife or vegetable peeler, remove tough outer layer from stem. Dip artichoke in lemon water to prevent discoloration. Pry open leaves to expose choke. Using a small spoon, scrape choke from artichoke and discard. Place artichoke in lemon water. Drain artichokes and set stem side up on a paper towel-lined baking sheet. Let stand about 2 minutes to drain; pat dry. Heat oil in a wide heavy pot over medium-high heat. Place artichokes, stem side up, in pot and reduce heat to medium-low. Scatter garlic over, season with salt, and cook, without stirring, just until garlic is golden, about 3 minutes. Add wine; cover pot, reduce heat, and simmer, without stirring (which could cause artichokes to fall apart), until artichoke hearts are very tender, 25-30 minutes. Add capers, bring to a boil, and cook, uncovered, until wine has evaporated, about 2 minutes. Add mint and parsley and cook (it's okay if a few artichokes tip over), reducing heat if necessary to prevent scorching, until artichoke tops are deep golden brown, about 3 minutes. Serve artichokes warm or room temperature, drizzled with pan juices. DO AHEAD: Artichokes can be made 2 hours ahead. Let stand at room temperature.\n",
      "Squeeze lemon into a large bowl of cold water. Working with 1 artichoke at a time, pull off tough dark outer leaves until mostly yellow leaves remain. Using a serrated knife, cut 1\" off from top. Trim stem, leaving at least 1/2\" of stem intact; using a paring knife or vegetable peeler, remove tough outer layer from stem. Dip artichoke in lemon water to prevent discoloration. Pry open leaves to expose choke. Using a small spoon, scrape choke from artichoke and discard. Place artichoke in lemon water.\n",
      "Drain artichokes and set stem side up on a paper towel-lined baking sheet. Let stand about 2 minutes to drain; pat dry.\n",
      "Heat oil in a wide heavy pot over medium-high heat. Place artichokes, stem side up, in pot and reduce heat to medium-low. Scatter garlic over, season with salt, and cook, without stirring, just until garlic is golden, about 3 minutes.\n",
      "Add wine; cover pot, reduce heat, and simmer, without stirring (which could cause artichokes to fall apart), until artichoke hearts are very tender, 25-30 minutes.\n",
      "Add capers, bring to a boil, and cook, uncovered, until wine has evaporated, about 2 minutes. Add mint and parsley and cook (it's okay if a few artichokes tip over), reducing heat if necessary to prevent scorching, until artichoke tops are deep golden brown, about 3 minutes.\n",
      "Serve artichokes warm or room temperature, drizzled with pan juices.\n",
      "DO AHEAD: Artichokes can be made 2 hours ahead. Let stand at room temperature.\n",
      "\n"
     ]
    }
   ],
   "source": [
    "### Only Category Weight\n",
    "query = ['japanese']\n",
    "Search_Recipes(query, query_ranked=False, recipe_range=(0,3))"
   ]
  },
  {
   "cell_type": "markdown",
   "metadata": {},
   "source": [
    "Further Analysis:\n",
    "- Generate Tag Count column in the Recipes data frame. Analyze distribution of tags.\n",
    "- See if all of the topics are easily interpretable from the generated tags."
   ]
  },
  {
   "cell_type": "markdown",
   "metadata": {},
   "source": [
    "### Peerings into the generated topics"
   ]
  },
  {
   "cell_type": "code",
   "execution_count": 1052,
   "metadata": {},
   "outputs": [
    {
     "data": {
      "text/plain": [
       "0                                                          \n",
       "1         Measure nutmeg drop raisin remainder sugar fla...\n",
       "2                                                          \n",
       "3         sugar degrees flour vanilla baking C bowl salt...\n",
       "4         remove Measure Drop pack cinnamon Craisins pas...\n",
       "5         applesauce looks minutes crumbs bananas add pu...\n",
       "6                                                          \n",
       "7         sugar degrees flour vanilla baking C bowl salt...\n",
       "8         lemon cutter temperature heat bread sauce coco...\n",
       "9         crust tube package reserve effect loaf whites ...\n",
       "10        sugar degrees flour vanilla baking C bowl salt...\n",
       "11        lemon cutter temperature heat bread sauce coco...\n",
       "12                                                         \n",
       "13        apple mix half layer canola one blueberry coco...\n",
       "14        sugar degrees flour vanilla baking C bowl salt...\n",
       "15        confectioners molasses knife addition hand alm...\n",
       "16        sugar degrees flour vanilla baking C bowl salt...\n",
       "17        remove Measure Drop pack cinnamon Craisins pas...\n",
       "18        sugar degrees flour vanilla baking C bowl salt...\n",
       "19                                                         \n",
       "20        spoonfuls buckwheat food amounts molasses cutt...\n",
       "21        bread time brownies Cake oats flavor cranberri...\n",
       "22                                                         \n",
       "23                                                         \n",
       "24        sugar degrees flour vanilla baking C bowl salt...\n",
       "25                                                         \n",
       "26        looks cooking Sprinkle form almonds remove lin...\n",
       "27        chocolate honey hand walnut flaxseed dish hour...\n",
       "28                                                         \n",
       "29        crust tube package reserve effect loaf whites ...\n",
       "                                ...                        \n",
       "122881                                                     \n",
       "122882    stir apple oil egg sides whites lowfat one cru...\n",
       "122883                                                     \n",
       "122884    stir apple oil egg sides whites lowfat one cru...\n",
       "122885                                                     \n",
       "122886                                                     \n",
       "122887    tins cutter molasses inch cook strawberries ad...\n",
       "122888                                                     \n",
       "122889                                                     \n",
       "122890                                                     \n",
       "122891    springs addition forks raspberries milk pint b...\n",
       "122892                                                     \n",
       "122893                                                     \n",
       "122894    pastry flavor loaf hand molasses tube food pou...\n",
       "122895                                                     \n",
       "122896    heat topping xinch knife shortening rest oil w...\n",
       "122897                                                     \n",
       "122898                                                     \n",
       "122899    puree diameter mixer frost cut crumbs muffin p...\n",
       "122900    crumb salt cut confectioners knife xinch tins ...\n",
       "122901    potato chill heat beat syrup peanuts fork diam...\n",
       "122902    looks cooking Sprinkle form almonds remove lin...\n",
       "122903                                                     \n",
       "122904    cherries color nutmeg rhubarb form forks looks...\n",
       "122905                                                     \n",
       "122906    tins cutter molasses inch cook strawberries ad...\n",
       "122907    flaxseed blender sheets sprinkles vegetable lo...\n",
       "122908                                                     \n",
       "122909                                                     \n",
       "122910                                                     \n",
       "Name: tags, Length: 122911, dtype: object"
      ]
     },
     "execution_count": 1052,
     "metadata": {},
     "output_type": "execute_result"
    }
   ],
   "source": [
    "recipes.tags"
   ]
  },
  {
   "cell_type": "code",
   "execution_count": 1053,
   "metadata": {},
   "outputs": [
    {
     "data": {
      "text/plain": [
       "'apple mix half layer canola one blueberry cocoa flavor cutter baking blueberries Measure coconut sand butter papers minutes spoonfuls yolks lumps frosting foil lemons flour remainder streusel baking foil canola Butter care yogurt beginning rubber bananas candy effect addition carrot loaf margarine chips Measure heat prunes cloves moist coat pumpkin'"
      ]
     },
     "execution_count": 1053,
     "metadata": {},
     "output_type": "execute_result"
    }
   ],
   "source": [
    "recipes.tags[13]"
   ]
  },
  {
   "cell_type": "code",
   "execution_count": 1054,
   "metadata": {},
   "outputs": [
    {
     "data": {
      "text/plain": [
       "'flaxseed blender sheets sprinkles vegetable looks package muffin brownies olive dish pumpkin vanilla mango canola fruit inches sand combine cornstarch firm springs pecans container medley'"
      ]
     },
     "execution_count": 1054,
     "metadata": {},
     "output_type": "execute_result"
    }
   ],
   "source": [
    "recipes.tags[122907]"
   ]
  },
  {
   "cell_type": "code",
   "execution_count": 1055,
   "metadata": {},
   "outputs": [
    {
     "data": {
      "text/plain": [
       "'potato chill heat beat syrup peanuts fork diameter Place everything slices almonds lumps plastic rubber blueberry blender cut remove tins forks corn speed zucchini racks'"
      ]
     },
     "execution_count": 1055,
     "metadata": {},
     "output_type": "execute_result"
    }
   ],
   "source": [
    "recipes.tags[90708]"
   ]
  },
  {
   "cell_type": "code",
   "execution_count": 1057,
   "metadata": {},
   "outputs": [
    {
     "data": {
      "text/plain": [
       "'water degrees seconds butter base olive blueberries whites light center swirl paper add foamy eggs dash cranberries ounce frosting blueberry berries color mixer almonds prunes'"
      ]
     },
     "execution_count": 1057,
     "metadata": {},
     "output_type": "execute_result"
    }
   ],
   "source": [
    "recipes.tags[50409]"
   ]
  },
  {
   "cell_type": "code",
   "execution_count": 1058,
   "metadata": {},
   "outputs": [
    {
     "data": {
      "text/plain": [
       "'lemon cutter temperature heat bread sauce coconut wire C pineapple bananas rum boiling filling lumps buttermilk bars pinch applesauce carrot combine effect base cardamom degrees'"
      ]
     },
     "execution_count": 1058,
     "metadata": {},
     "output_type": "execute_result"
    }
   ],
   "source": [
    "recipes.tags[30234]"
   ]
  },
  {
   "cell_type": "code",
   "execution_count": 1061,
   "metadata": {},
   "outputs": [
    {
     "data": {
      "text/plain": [
       "'bundt remainder temperature syrup coloring blend time looks flaxseed pineapple bag orange canola boil x increments toothpick refrigerator pint freezer fork squares teaspoonfuls muffin tins streusel reserve Line Craisins squares boil margarine pistachios side rack diameter amounts blend inches carrot medley lumps flaxseed cut beginning crumb frosting filling minute pint'"
      ]
     },
     "execution_count": 1061,
     "metadata": {},
     "output_type": "execute_result"
    }
   ],
   "source": [
    "recipes.tags[23596]"
   ]
  },
  {
   "cell_type": "code",
   "execution_count": 1102,
   "metadata": {},
   "outputs": [
    {
     "data": {
      "text/plain": [
       "'corn zest hour nutmeg buttermilk pinch crumbs half beginning Dust raisin side spoon sides sprinkles spray crust F tin frost peanuts raisins packages foil eggs'"
      ]
     },
     "execution_count": 1102,
     "metadata": {},
     "output_type": "execute_result"
    }
   ],
   "source": [
    "recipes.tags[60457]"
   ]
  },
  {
   "cell_type": "code",
   "execution_count": 1117,
   "metadata": {},
   "outputs": [
    {
     "data": {
      "text/plain": [
       "'confectioners molasses knife addition hand almonds pie bars motion drop melt semisweet flour shortening springform sprinkles sand xinch Place temperature inches powder eggs rhubarb beer'"
      ]
     },
     "execution_count": 1117,
     "metadata": {},
     "output_type": "execute_result"
    }
   ],
   "source": [
    "recipes.tags[110997]"
   ]
  },
  {
   "cell_type": "code",
   "execution_count": 1123,
   "metadata": {},
   "outputs": [
    {
     "data": {
      "text/html": [
       "<div>\n",
       "<style scoped>\n",
       "    .dataframe tbody tr th:only-of-type {\n",
       "        vertical-align: middle;\n",
       "    }\n",
       "\n",
       "    .dataframe tbody tr th {\n",
       "        vertical-align: top;\n",
       "    }\n",
       "\n",
       "    .dataframe thead th {\n",
       "        text-align: right;\n",
       "    }\n",
       "</style>\n",
       "<table border=\"1\" class=\"dataframe\">\n",
       "  <thead>\n",
       "    <tr style=\"text-align: right;\">\n",
       "      <th></th>\n",
       "      <th>ingredients</th>\n",
       "      <th>instructions</th>\n",
       "      <th>picture_link</th>\n",
       "      <th>title</th>\n",
       "      <th>ingredient_text</th>\n",
       "      <th>ingredient_count</th>\n",
       "      <th>tag_list</th>\n",
       "      <th>tags</th>\n",
       "    </tr>\n",
       "  </thead>\n",
       "  <tbody>\n",
       "    <tr>\n",
       "      <th>0</th>\n",
       "      <td>[4 skinless, boneless chicken breast halves, 2...</td>\n",
       "      <td>Place the chicken, butter, soup, and onion in ...</td>\n",
       "      <td>55lznCYBbs2mT8BTx6BTkLhynGHzM.S</td>\n",
       "      <td>Slow Cooker Chicken and Dumplings</td>\n",
       "      <td>4 skinless, boneless chicken breast halves; 2 ...</td>\n",
       "      <td>5</td>\n",
       "      <td>[]</td>\n",
       "      <td></td>\n",
       "    </tr>\n",
       "    <tr>\n",
       "      <th>1</th>\n",
       "      <td>[2 (10.75 ounce) cans condensed cream of mushr...</td>\n",
       "      <td>In a slow cooker, mix cream of mushroom soup, ...</td>\n",
       "      <td>QyrvGdGNMBA2lDdciY0FjKu.77MM0Oe</td>\n",
       "      <td>Awesome Slow Cooker Pot Roast</td>\n",
       "      <td>2 (10.75 ounce) cans condensed cream of mushro...</td>\n",
       "      <td>4</td>\n",
       "      <td>[Measure, nutmeg, drop, raisin, remainder, sug...</td>\n",
       "      <td>Measure nutmeg drop raisin remainder sugar fla...</td>\n",
       "    </tr>\n",
       "    <tr>\n",
       "      <th>2</th>\n",
       "      <td>[1/2 cup packed brown sugar, 1/2 cup ketchup, ...</td>\n",
       "      <td>Preheat oven to 350 degrees F (175 degrees C)....</td>\n",
       "      <td>LVW1DI0vtlCrpAhNSEQysE9i/7rJG56</td>\n",
       "      <td>Brown Sugar Meatloaf</td>\n",
       "      <td>1/2 cup packed brown sugar; 1/2 cup ketchup; 1...</td>\n",
       "      <td>10</td>\n",
       "      <td>[]</td>\n",
       "      <td></td>\n",
       "    </tr>\n",
       "    <tr>\n",
       "      <th>3</th>\n",
       "      <td>[1 cup butter, softened, 1 cup white sugar, 1 ...</td>\n",
       "      <td>Preheat oven to 350 degrees F (175 degrees C)....</td>\n",
       "      <td>0SO5kdWOV94j6EfAVwMMYRM3yNN8eRi</td>\n",
       "      <td>Best Chocolate Chip Cookies</td>\n",
       "      <td>1 cup butter, softened; 1 cup white sugar; 1 c...</td>\n",
       "      <td>11</td>\n",
       "      <td>[sugar, degrees, flour, vanilla, baking, C, bo...</td>\n",
       "      <td>sugar degrees flour vanilla baking C bowl salt...</td>\n",
       "    </tr>\n",
       "    <tr>\n",
       "      <th>4</th>\n",
       "      <td>[8 ounces whole wheat rotini pasta, 3 cups fre...</td>\n",
       "      <td>Preheat oven to 350 degrees F. Line a 2-quart ...</td>\n",
       "      <td>YCnbhplMgiraW4rUXcybgSEZinSgljm</td>\n",
       "      <td>Homemade Mac and Cheese Casserole</td>\n",
       "      <td>8 ounces whole wheat rotini pasta; 3 cups fres...</td>\n",
       "      <td>13</td>\n",
       "      <td>[remove, Measure, Drop, pack, cinnamon, Craisi...</td>\n",
       "      <td>remove Measure Drop pack cinnamon Craisins pas...</td>\n",
       "    </tr>\n",
       "  </tbody>\n",
       "</table>\n",
       "</div>"
      ],
      "text/plain": [
       "                                         ingredients  \\\n",
       "0  [4 skinless, boneless chicken breast halves, 2...   \n",
       "1  [2 (10.75 ounce) cans condensed cream of mushr...   \n",
       "2  [1/2 cup packed brown sugar, 1/2 cup ketchup, ...   \n",
       "3  [1 cup butter, softened, 1 cup white sugar, 1 ...   \n",
       "4  [8 ounces whole wheat rotini pasta, 3 cups fre...   \n",
       "\n",
       "                                        instructions  \\\n",
       "0  Place the chicken, butter, soup, and onion in ...   \n",
       "1  In a slow cooker, mix cream of mushroom soup, ...   \n",
       "2  Preheat oven to 350 degrees F (175 degrees C)....   \n",
       "3  Preheat oven to 350 degrees F (175 degrees C)....   \n",
       "4  Preheat oven to 350 degrees F. Line a 2-quart ...   \n",
       "\n",
       "                      picture_link                              title  \\\n",
       "0  55lznCYBbs2mT8BTx6BTkLhynGHzM.S  Slow Cooker Chicken and Dumplings   \n",
       "1  QyrvGdGNMBA2lDdciY0FjKu.77MM0Oe      Awesome Slow Cooker Pot Roast   \n",
       "2  LVW1DI0vtlCrpAhNSEQysE9i/7rJG56               Brown Sugar Meatloaf   \n",
       "3  0SO5kdWOV94j6EfAVwMMYRM3yNN8eRi        Best Chocolate Chip Cookies   \n",
       "4  YCnbhplMgiraW4rUXcybgSEZinSgljm  Homemade Mac and Cheese Casserole   \n",
       "\n",
       "                                     ingredient_text  ingredient_count  \\\n",
       "0  4 skinless, boneless chicken breast halves; 2 ...                 5   \n",
       "1  2 (10.75 ounce) cans condensed cream of mushro...                 4   \n",
       "2  1/2 cup packed brown sugar; 1/2 cup ketchup; 1...                10   \n",
       "3  1 cup butter, softened; 1 cup white sugar; 1 c...                11   \n",
       "4  8 ounces whole wheat rotini pasta; 3 cups fres...                13   \n",
       "\n",
       "                                            tag_list  \\\n",
       "0                                                 []   \n",
       "1  [Measure, nutmeg, drop, raisin, remainder, sug...   \n",
       "2                                                 []   \n",
       "3  [sugar, degrees, flour, vanilla, baking, C, bo...   \n",
       "4  [remove, Measure, Drop, pack, cinnamon, Craisi...   \n",
       "\n",
       "                                                tags  \n",
       "0                                                     \n",
       "1  Measure nutmeg drop raisin remainder sugar fla...  \n",
       "2                                                     \n",
       "3  sugar degrees flour vanilla baking C bowl salt...  \n",
       "4  remove Measure Drop pack cinnamon Craisins pas...  "
      ]
     },
     "execution_count": 1123,
     "metadata": {},
     "output_type": "execute_result"
    }
   ],
   "source": [
    "recipes.head()"
   ]
  },
  {
   "cell_type": "code",
   "execution_count": null,
   "metadata": {},
   "outputs": [],
   "source": []
  }
 ],
 "metadata": {
  "kernelspec": {
   "display_name": "Python 3",
   "language": "python",
   "name": "python3"
  },
  "language_info": {
   "codemirror_mode": {
    "name": "ipython",
    "version": 3
   },
   "file_extension": ".py",
   "mimetype": "text/x-python",
   "name": "python",
   "nbconvert_exporter": "python",
   "pygments_lexer": "ipython3",
   "version": "3.7.4"
  }
 },
 "nbformat": 4,
 "nbformat_minor": 2
}
